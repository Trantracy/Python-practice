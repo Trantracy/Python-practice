{
  "nbformat": 4,
  "nbformat_minor": 0,
  "metadata": {
    "colab": {
      "name": "FTMLE_Intermediate_Python.ipynb",
      "provenance": [],
      "collapsed_sections": [],
      "include_colab_link": true
    },
    "kernelspec": {
      "name": "python3",
      "display_name": "Python 3"
    }
  },
  "cells": [
    {
      "cell_type": "markdown",
      "metadata": {
        "id": "view-in-github",
        "colab_type": "text"
      },
      "source": [
        "<a href=\"https://colab.research.google.com/github/Trantracy/Python-practice/blob/master/Intermediate_Python.ipynb\" target=\"_parent\"><img src=\"https://colab.research.google.com/assets/colab-badge.svg\" alt=\"Open In Colab\"/></a>"
      ]
    },
    {
      "cell_type": "markdown",
      "metadata": {
        "id": "RlrOd0bt51Z_",
        "colab_type": "text"
      },
      "source": [
        "![](https://i.imgur.com/0AUxkXt.png)"
      ]
    },
    {
      "cell_type": "markdown",
      "metadata": {
        "id": "FEmuZe4W528q",
        "colab_type": "text"
      },
      "source": [
        "# Intermediate Python\n",
        "\n",
        "_Things you might not know_\n"
      ]
    },
    {
      "cell_type": "markdown",
      "metadata": {
        "id": "jYbCQvkJ6ENc",
        "colab_type": "text"
      },
      "source": [
        "## List comprehension"
      ]
    },
    {
      "cell_type": "code",
      "metadata": {
        "id": "S02KleSK6HkR",
        "colab_type": "code",
        "colab": {}
      },
      "source": [
        "even_numbers = [x for x in range(5) if x % 2 == 0]  # [0, 2, 4]\n",
        "squares      = [x * x for x in range(5)]            # [0, 1, 4, 9, 16]\n",
        "even_squares = [x * x for x in even_numbers]        # [0, 4, 16]"
      ],
      "execution_count": 0,
      "outputs": []
    },
    {
      "cell_type": "markdown",
      "metadata": {
        "id": "AnUWswdeD_Tg",
        "colab_type": "text"
      },
      "source": [
        "You can use it to create dictionaries or sets too:"
      ]
    },
    {
      "cell_type": "code",
      "metadata": {
        "id": "CGD6sVs8EEl8",
        "colab_type": "code",
        "colab": {}
      },
      "source": [
        "square_dict = {x: x * x for x in range(5)}  # {0: 0, 1: 1, 2: 4, 3: 9, 4: 16}\n",
        "square_set  = {x * x for x in [1, -1]}      # {1}"
      ],
      "execution_count": 0,
      "outputs": []
    },
    {
      "cell_type": "markdown",
      "metadata": {
        "id": "nIOiQB11EMY8",
        "colab_type": "text"
      },
      "source": [
        "If you don't need the value of the list:"
      ]
    },
    {
      "cell_type": "code",
      "metadata": {
        "id": "ped3Z6L_EPYK",
        "colab_type": "code",
        "colab": {}
      },
      "source": [
        "zeros = [0 for _ in even_numbers]      # has the same length as even_numbers"
      ],
      "execution_count": 0,
      "outputs": []
    },
    {
      "cell_type": "markdown",
      "metadata": {
        "id": "tmwDRzoAEQij",
        "colab_type": "text"
      },
      "source": [
        "A list comprehension can include multiple fors:"
      ]
    },
    {
      "cell_type": "code",
      "metadata": {
        "id": "AQUl4KmuEfsA",
        "colab_type": "code",
        "colab": {}
      },
      "source": [
        "pairs = [(x, y)\n",
        "         for x in range(10)\n",
        "         for y in range(10)]   # 100 pairs (0,0) (0,1) ... (9,8), (9,9)"
      ],
      "execution_count": 0,
      "outputs": []
    },
    {
      "cell_type": "markdown",
      "metadata": {
        "id": "brMkuB3B6H9d",
        "colab_type": "text"
      },
      "source": [
        "## Iterables and Generators\n",
        "\n",
        "A list of a billion numbers takes up a lot of memory. If you only want the elements one at a time, there’s no good reason to keep them all around.\n",
        "\n",
        "Often all we need is to iterate over the collection using for and in. In this case we can create generators, which can be iterated over just like lists but generate their values lazily on demand.\n",
        "\n",
        "One way to create generators is with functions and the yield operator:"
      ]
    },
    {
      "cell_type": "code",
      "metadata": {
        "id": "_qgge7H86Tdx",
        "colab_type": "code",
        "colab": {}
      },
      "source": [
        "def generate_range(n):\n",
        "    i = 0\n",
        "    while i < n:\n",
        "        yield i   # every call to yield produces a value of the generator\n",
        "        i += 1"
      ],
      "execution_count": 0,
      "outputs": []
    },
    {
      "cell_type": "code",
      "metadata": {
        "id": "Ec6Op23nGa4G",
        "colab_type": "code",
        "outputId": "b40a6d76-2098-41ef-f5e8-f7adb719f6d5",
        "colab": {
          "base_uri": "https://localhost:8080/",
          "height": 34
        }
      },
      "source": [
        "print(range(10))"
      ],
      "execution_count": 0,
      "outputs": [
        {
          "output_type": "stream",
          "text": [
            "range(0, 10)\n"
          ],
          "name": "stdout"
        }
      ]
    },
    {
      "cell_type": "code",
      "metadata": {
        "id": "zMUTFBNQE20C",
        "colab_type": "code",
        "outputId": "002875a8-4a6b-4c10-ff35-f0f726a6f2ed",
        "colab": {
          "base_uri": "https://localhost:8080/",
          "height": 188
        }
      },
      "source": [
        "for i in generate_range(10):\n",
        "    print(f\"i: {i}\")"
      ],
      "execution_count": 0,
      "outputs": [
        {
          "output_type": "stream",
          "text": [
            "i: 0\n",
            "i: 1\n",
            "i: 2\n",
            "i: 3\n",
            "i: 4\n",
            "i: 5\n",
            "i: 6\n",
            "i: 7\n",
            "i: 8\n",
            "i: 9\n"
          ],
          "name": "stdout"
        }
      ]
    },
    {
      "cell_type": "markdown",
      "metadata": {
        "id": "-12aO7T4FM99",
        "colab_type": "text"
      },
      "source": [
        "A second way to create generators is by using for comprehensions wrapped in parentheses:"
      ]
    },
    {
      "cell_type": "code",
      "metadata": {
        "id": "4k9INWeFFNhj",
        "colab_type": "code",
        "colab": {}
      },
      "source": [
        "evens_below_20 = (i for i in generate_range(20) if i % 2 == 0)"
      ],
      "execution_count": 0,
      "outputs": []
    },
    {
      "cell_type": "markdown",
      "metadata": {
        "id": "qvesb3z3Fcfi",
        "colab_type": "text"
      },
      "source": [
        "Such a “generator comprehension” doesn’t do any work until you iterate over it."
      ]
    },
    {
      "cell_type": "code",
      "metadata": {
        "id": "DvVlQ5NCFdd9",
        "colab_type": "code",
        "outputId": "9ff08f90-d5bb-44ef-ea88-51e49d3e58ec",
        "colab": {
          "base_uri": "https://localhost:8080/",
          "height": 34
        }
      },
      "source": [
        "def natural_numbers():\n",
        "    \"\"\"returns 1, 2, 3, ...\"\"\"\n",
        "    n = 1\n",
        "    while True:\n",
        "        yield n\n",
        "        n += 1\n",
        "\n",
        "data = natural_numbers()\n",
        "evens = (x for x in data if x % 2 == 0)\n",
        "even_squares = (x ** 2 for x in evens)\n",
        "print(even_squares)"
      ],
      "execution_count": 0,
      "outputs": [
        {
          "output_type": "stream",
          "text": [
            "<generator object <genexpr> at 0x7f55dc3e7570>\n"
          ],
          "name": "stdout"
        }
      ]
    },
    {
      "cell_type": "code",
      "metadata": {
        "id": "Vwpx_4MoHEWV",
        "colab_type": "code",
        "colab": {}
      },
      "source": [
        "for x in evens:\n",
        "    print(x)\n",
        "    if x == 20:\n",
        "        break"
      ],
      "execution_count": 0,
      "outputs": []
    },
    {
      "cell_type": "markdown",
      "metadata": {
        "id": "Tgp1awS-Gztn",
        "colab_type": "text"
      },
      "source": [
        ""
      ]
    },
    {
      "cell_type": "markdown",
      "metadata": {
        "id": "HFPKoINY6T29",
        "colab_type": "text"
      },
      "source": [
        "## Automated Testing via assert\n",
        "\n",
        "As data scientists, we’ll be writing a lot of code. How can we be confident our code is correct?"
      ]
    },
    {
      "cell_type": "code",
      "metadata": {
        "id": "cPZfv1tR6Xm0",
        "colab_type": "code",
        "outputId": "718e2050-fb28-44c1-a272-4b14dd89f420",
        "colab": {
          "base_uri": "https://localhost:8080/",
          "height": 202
        }
      },
      "source": [
        "assert 1 + 1 == 2\n",
        "assert 1 + 1 == 3, \"An error message\""
      ],
      "execution_count": 0,
      "outputs": [
        {
          "output_type": "error",
          "ename": "AssertionError",
          "evalue": "ignored",
          "traceback": [
            "\u001b[0;31m---------------------------------------------------------------------------\u001b[0m",
            "\u001b[0;31mAssertionError\u001b[0m                            Traceback (most recent call last)",
            "\u001b[0;32m<ipython-input-7-251d626ced27>\u001b[0m in \u001b[0;36m<module>\u001b[0;34m()\u001b[0m\n\u001b[1;32m      1\u001b[0m \u001b[0;32massert\u001b[0m \u001b[0;36m1\u001b[0m \u001b[0;34m+\u001b[0m \u001b[0;36m1\u001b[0m \u001b[0;34m==\u001b[0m \u001b[0;36m2\u001b[0m\u001b[0;34m\u001b[0m\u001b[0;34m\u001b[0m\u001b[0m\n\u001b[0;32m----> 2\u001b[0;31m \u001b[0;32massert\u001b[0m \u001b[0;36m1\u001b[0m \u001b[0;34m+\u001b[0m \u001b[0;36m1\u001b[0m \u001b[0;34m==\u001b[0m \u001b[0;36m3\u001b[0m\u001b[0;34m,\u001b[0m \u001b[0;34m\"An error message\"\u001b[0m\u001b[0;34m\u001b[0m\u001b[0;34m\u001b[0m\u001b[0m\n\u001b[0m",
            "\u001b[0;31mAssertionError\u001b[0m: An error message"
          ]
        }
      ]
    },
    {
      "cell_type": "code",
      "metadata": {
        "id": "I26SYImxGCbQ",
        "colab_type": "code",
        "outputId": "9949e548-c2e5-4ae5-97a6-8302068d9920",
        "colab": {
          "base_uri": "https://localhost:8080/",
          "height": 236
        }
      },
      "source": [
        "def smallest_item(xs):\n",
        "    return max(xs)\n",
        "\n",
        "assert smallest_item([10, 20, 5, 40]) == 5\n",
        "assert smallest_item([1, 0, -1, 2]) == -1"
      ],
      "execution_count": 0,
      "outputs": [
        {
          "output_type": "error",
          "ename": "AssertionError",
          "evalue": "ignored",
          "traceback": [
            "\u001b[0;31m---------------------------------------------------------------------------\u001b[0m",
            "\u001b[0;31mAssertionError\u001b[0m                            Traceback (most recent call last)",
            "\u001b[0;32m<ipython-input-9-112d2d2531ed>\u001b[0m in \u001b[0;36m<module>\u001b[0;34m()\u001b[0m\n\u001b[1;32m      2\u001b[0m     \u001b[0;32mreturn\u001b[0m \u001b[0mmax\u001b[0m\u001b[0;34m(\u001b[0m\u001b[0mxs\u001b[0m\u001b[0;34m)\u001b[0m\u001b[0;34m\u001b[0m\u001b[0;34m\u001b[0m\u001b[0m\n\u001b[1;32m      3\u001b[0m \u001b[0;34m\u001b[0m\u001b[0m\n\u001b[0;32m----> 4\u001b[0;31m \u001b[0;32massert\u001b[0m \u001b[0msmallest_item\u001b[0m\u001b[0;34m(\u001b[0m\u001b[0;34m[\u001b[0m\u001b[0;36m10\u001b[0m\u001b[0;34m,\u001b[0m \u001b[0;36m20\u001b[0m\u001b[0;34m,\u001b[0m \u001b[0;36m5\u001b[0m\u001b[0;34m,\u001b[0m \u001b[0;36m40\u001b[0m\u001b[0;34m]\u001b[0m\u001b[0;34m)\u001b[0m \u001b[0;34m==\u001b[0m \u001b[0;36m5\u001b[0m\u001b[0;34m\u001b[0m\u001b[0;34m\u001b[0m\u001b[0m\n\u001b[0m\u001b[1;32m      5\u001b[0m \u001b[0;32massert\u001b[0m \u001b[0msmallest_item\u001b[0m\u001b[0;34m(\u001b[0m\u001b[0;34m[\u001b[0m\u001b[0;36m1\u001b[0m\u001b[0;34m,\u001b[0m \u001b[0;36m0\u001b[0m\u001b[0;34m,\u001b[0m \u001b[0;34m-\u001b[0m\u001b[0;36m1\u001b[0m\u001b[0;34m,\u001b[0m \u001b[0;36m2\u001b[0m\u001b[0;34m]\u001b[0m\u001b[0;34m)\u001b[0m \u001b[0;34m==\u001b[0m \u001b[0;34m-\u001b[0m\u001b[0;36m1\u001b[0m\u001b[0;34m\u001b[0m\u001b[0;34m\u001b[0m\u001b[0m\n",
            "\u001b[0;31mAssertionError\u001b[0m: "
          ]
        }
      ]
    },
    {
      "cell_type": "code",
      "metadata": {
        "id": "6jQVbJGlIlK7",
        "colab_type": "code",
        "colab": {}
      },
      "source": [
        "def gcd(a, b):\n",
        "    if b == 0:\n",
        "        return a\n",
        "    while b > 0:\n",
        "        a, b = b, a % b\n",
        "    return a\n",
        "\n",
        "assert gcd(4, 6) == 2\n",
        "assert gcd(6, 12) == 6"
      ],
      "execution_count": 0,
      "outputs": []
    },
    {
      "cell_type": "markdown",
      "metadata": {
        "id": "hHosW21M6YPu",
        "colab_type": "text"
      },
      "source": [
        "## Randomness"
      ]
    },
    {
      "cell_type": "code",
      "metadata": {
        "id": "81VsE7b16fuL",
        "colab_type": "code",
        "outputId": "8f8c2bff-00c0-44fb-9a53-edcde3fe906f",
        "colab": {
          "base_uri": "https://localhost:8080/",
          "height": 86
        }
      },
      "source": [
        "import random\n",
        "random.seed(10)  # this ensures we get the same results every time\n",
        "\n",
        "four_uniform_randoms = [random.random() for _ in range(4)]\n",
        "four_uniform_randoms"
      ],
      "execution_count": 0,
      "outputs": [
        {
          "output_type": "execute_result",
          "data": {
            "text/plain": [
              "[0.5714025946899135,\n",
              " 0.4288890546751146,\n",
              " 0.5780913011344704,\n",
              " 0.20609823213950174]"
            ]
          },
          "metadata": {
            "tags": []
          },
          "execution_count": 18
        }
      ]
    },
    {
      "cell_type": "markdown",
      "metadata": {
        "id": "mVwCNwHNGbyr",
        "colab_type": "text"
      },
      "source": [
        "If you want to get reproducible results:"
      ]
    },
    {
      "cell_type": "code",
      "metadata": {
        "id": "g20DK4p-GV7L",
        "colab_type": "code",
        "outputId": "112bf30e-fb63-47fb-d697-95dd233a6124",
        "colab": {
          "base_uri": "https://localhost:8080/",
          "height": 51
        }
      },
      "source": [
        "random.seed(10)         # set the seed to 10\n",
        "print(random.random())  \n",
        "random.seed(10)         # reset the seed to 10\n",
        "print(random.random())  # same result again"
      ],
      "execution_count": 0,
      "outputs": [
        {
          "output_type": "stream",
          "text": [
            "0.5714025946899135\n",
            "0.5714025946899135\n"
          ],
          "name": "stdout"
        }
      ]
    },
    {
      "cell_type": "code",
      "metadata": {
        "id": "R-39-gnWGqrc",
        "colab_type": "code",
        "outputId": "d328c2a4-089b-45a7-c29d-76ffe765b4ad",
        "colab": {
          "base_uri": "https://localhost:8080/",
          "height": 34
        }
      },
      "source": [
        "random.randrange(10)    # choose randomly from range(10) = [0, 1, ..., 9]\n",
        "random.randrange(3, 6)  # choose randomly from range(3, 6) = [3, 4, 5]"
      ],
      "execution_count": 0,
      "outputs": [
        {
          "output_type": "execute_result",
          "data": {
            "text/plain": [
              "4"
            ]
          },
          "metadata": {
            "tags": []
          },
          "execution_count": 20
        }
      ]
    },
    {
      "cell_type": "code",
      "metadata": {
        "id": "BXZJDq6kGtOS",
        "colab_type": "code",
        "outputId": "48c93e7e-c0a9-4945-9c1f-2ada5c944f24",
        "colab": {
          "base_uri": "https://localhost:8080/",
          "height": 34
        }
      },
      "source": [
        "up_to_ten = [1, 2, 3, 4, 5, 6, 7, 8, 9, 10]\n",
        "random.shuffle(up_to_ten)\n",
        "print(up_to_ten)"
      ],
      "execution_count": 0,
      "outputs": [
        {
          "output_type": "stream",
          "text": [
            "[7, 9, 5, 8, 1, 3, 10, 4, 2, 6]\n"
          ],
          "name": "stdout"
        }
      ]
    },
    {
      "cell_type": "code",
      "metadata": {
        "id": "2PbeoqYfGv2o",
        "colab_type": "code",
        "outputId": "af92dbc2-f825-4238-8539-413e74c8c1d1",
        "colab": {
          "base_uri": "https://localhost:8080/",
          "height": 34
        }
      },
      "source": [
        "my_best_instructor = random.choice([\"Minh\", \"Tom\", \"Minh Anh\", \"Nguyen\"])\n",
        "my_best_instructor"
      ],
      "execution_count": 0,
      "outputs": [
        {
          "output_type": "execute_result",
          "data": {
            "text/plain": [
              "'Nguyen'"
            ]
          },
          "metadata": {
            "tags": []
          },
          "execution_count": 24
        }
      ]
    },
    {
      "cell_type": "code",
      "metadata": {
        "id": "CVnv54dOG4RD",
        "colab_type": "code",
        "colab": {}
      },
      "source": [
        "lottery_numbers = range(49)\n",
        "winning_numbers = random.sample(lottery_numbers, 6)  # [16, 36, 10, 6, 25, 9]"
      ],
      "execution_count": 0,
      "outputs": []
    },
    {
      "cell_type": "markdown",
      "metadata": {
        "id": "7DtgABsl6kVP",
        "colab_type": "text"
      },
      "source": [
        "## Zip and Argument Unpacking\n",
        "\n",
        "The zip function transforms multiple iterables into a single iterable of tuples of corresponding function:"
      ]
    },
    {
      "cell_type": "code",
      "metadata": {
        "id": "nfEt3jGP6rDe",
        "colab_type": "code",
        "colab": {}
      },
      "source": [
        "list1 = ['a', 'b', 'c']\n",
        "list2 = [1, 2, 3]\n",
        "\n",
        "# zip is lazy, so you have to do something like the following\n",
        "[pair for pair in zip(list1, list2)]    # is [('a', 1), ('b', 2), ('c', 3)]"
      ],
      "execution_count": 0,
      "outputs": []
    },
    {
      "cell_type": "markdown",
      "metadata": {
        "id": "929-FeDVHHjR",
        "colab_type": "text"
      },
      "source": [
        "If the lists are different lengths, zip stops as soon as the first list ends. You can also “unzip” a list using a strange trick:"
      ]
    },
    {
      "cell_type": "code",
      "metadata": {
        "id": "Jos3LL2UL_x5",
        "colab_type": "code",
        "colab": {}
      },
      "source": [
        "def f(*args):\n",
        "    result = []\n",
        "    for name in args:\n",
        "        result.append('Hi ' + name)\n",
        "    return result\n",
        "\n",
        "def test_f():\n",
        "    assert f('Minh') == ['Hi Minh']\n",
        "    return True\n",
        "\n",
        "def test_f(f, list_of_args, list_of_answer):\n",
        "    for index, arg in enumerate(list_of_args):\n",
        "        assert f(*arg) == list_of_answer[index]\n",
        "test_f(f, [('Minh', 'Tom')], [['Hi Minh', 'Hi Tom']])"
      ],
      "execution_count": 0,
      "outputs": []
    },
    {
      "cell_type": "code",
      "metadata": {
        "id": "AqSCOybKOR3g",
        "colab_type": "code",
        "colab": {}
      },
      "source": [
        ""
      ],
      "execution_count": 0,
      "outputs": []
    },
    {
      "cell_type": "code",
      "metadata": {
        "id": "KIWyNfdQHIYZ",
        "colab_type": "code",
        "outputId": "94d58edd-e6c2-4f2f-e43e-17cd6803dfa9",
        "colab": {
          "base_uri": "https://localhost:8080/",
          "height": 131
        }
      },
      "source": [
        "pairs = [[('a', 1), ('b', 2), ('c', 3)]]\n",
        "\n",
        "# list(zip(*pairs))"
      ],
      "execution_count": 0,
      "outputs": [
        {
          "output_type": "error",
          "ename": "SyntaxError",
          "evalue": "ignored",
          "traceback": [
            "\u001b[0;36m  File \u001b[0;32m\"<ipython-input-28-9afd69d92ae4>\"\u001b[0;36m, line \u001b[0;32m2\u001b[0m\n\u001b[0;31m    a = *pairs\u001b[0m\n\u001b[0m       ^\u001b[0m\n\u001b[0;31mSyntaxError\u001b[0m\u001b[0;31m:\u001b[0m can't use starred expression here\n"
          ]
        }
      ]
    },
    {
      "cell_type": "markdown",
      "metadata": {
        "id": "fWzGrOYSHiEF",
        "colab_type": "text"
      },
      "source": [
        "The asterisk (*) performs argument unpacking, which uses the elements of pairs as individual arguments to zip. It ends up the same as if you’d called:"
      ]
    },
    {
      "cell_type": "code",
      "metadata": {
        "id": "0m-4AoURHgGx",
        "colab_type": "code",
        "colab": {}
      },
      "source": [
        "letters, numbers = zip(('a', 1), ('b', 2), ('c', 3))"
      ],
      "execution_count": 0,
      "outputs": []
    },
    {
      "cell_type": "markdown",
      "metadata": {
        "id": "kqHMDBGnOTzo",
        "colab_type": "text"
      },
      "source": [
        "## Pointer in Python"
      ]
    },
    {
      "cell_type": "code",
      "metadata": {
        "id": "kITt-FFzOVi4",
        "colab_type": "code",
        "outputId": "527fe265-c112-473c-eedd-ed84eb33dc3f",
        "colab": {
          "base_uri": "https://localhost:8080/",
          "height": 51
        }
      },
      "source": [
        "a = 'Minh'\n",
        "def add_2(b):\n",
        "    global a\n",
        "    a = a.lower()\n",
        "    return b\n",
        "print(add_2(a))\n",
        "print(a)"
      ],
      "execution_count": 0,
      "outputs": [
        {
          "output_type": "stream",
          "text": [
            "Minh\n",
            "minh\n"
          ],
          "name": "stdout"
        }
      ]
    },
    {
      "cell_type": "code",
      "metadata": {
        "id": "qcfcyjPFQnEj",
        "colab_type": "code",
        "outputId": "27adb790-f51f-4cea-e62f-b7168a9c2275",
        "colab": {
          "base_uri": "https://localhost:8080/",
          "height": 34
        }
      },
      "source": [
        "a = [1, 2, 3]\n",
        "b = a.copy()\n",
        "a[0] = 9\n",
        "b"
      ],
      "execution_count": 0,
      "outputs": [
        {
          "output_type": "execute_result",
          "data": {
            "text/plain": [
              "[1, 2, 3]"
            ]
          },
          "metadata": {
            "tags": []
          },
          "execution_count": 47
        }
      ]
    },
    {
      "cell_type": "markdown",
      "metadata": {
        "id": "R33khkDAnmu4",
        "colab_type": "text"
      },
      "source": [
        "## Python Decorators\n",
        "\n",
        "In Python, functions can be passed around and used as arguments, just like any other object (string, int, float, list, and so on)"
      ]
    },
    {
      "cell_type": "code",
      "metadata": {
        "id": "gNCM3vx0nnIA",
        "colab_type": "code",
        "outputId": "31669eb0-b54e-4926-d700-88d04d3654a7",
        "colab": {
          "base_uri": "https://localhost:8080/",
          "height": 51
        }
      },
      "source": [
        "def say_hello(name):\n",
        "    return f\"Hello {name}\"\n",
        "\n",
        "def be_awesome(name):\n",
        "    return f\"Yo {name}, together we are the awesomest!\"\n",
        "\n",
        "def greet_bob(greeter_func):\n",
        "    return greeter_func(\"Bob\")\n",
        "\n",
        "print(greet_bob(say_hello))\n",
        "print(greet_bob(be_awesome))"
      ],
      "execution_count": 0,
      "outputs": [
        {
          "output_type": "stream",
          "text": [
            "Hello Bob\n",
            "Yo Bob, together we are the awesomest!\n"
          ],
          "name": "stdout"
        }
      ]
    },
    {
      "cell_type": "markdown",
      "metadata": {
        "id": "OGaH1fqqocRt",
        "colab_type": "text"
      },
      "source": [
        "It's possible to **define function inside other function**."
      ]
    },
    {
      "cell_type": "code",
      "metadata": {
        "id": "eAnRAEMXohZm",
        "colab_type": "code",
        "outputId": "2c5cb50a-dd54-47b9-d61f-cc4bf0a6b759",
        "colab": {
          "base_uri": "https://localhost:8080/",
          "height": 69
        }
      },
      "source": [
        "def parent():\n",
        "    print(\"Printing from the parent() function\")\n",
        "\n",
        "    def first_child():\n",
        "        print(\"Printing from the first_child() function\")\n",
        "\n",
        "    def second_child():\n",
        "        print(\"Printing from the second_child() function\")\n",
        "\n",
        "    second_child()\n",
        "    first_child()\n",
        "parent()"
      ],
      "execution_count": 0,
      "outputs": [
        {
          "output_type": "stream",
          "text": [
            "Printing from the parent() function\n",
            "Printing from the second_child() function\n",
            "Printing from the first_child() function\n"
          ],
          "name": "stdout"
        }
      ]
    },
    {
      "cell_type": "markdown",
      "metadata": {
        "id": "2aNFoby6oqqO",
        "colab_type": "text"
      },
      "source": [
        "Now let's move on to the magical Python decorator:"
      ]
    },
    {
      "cell_type": "code",
      "metadata": {
        "id": "dNspbmdRoyOB",
        "colab_type": "code",
        "outputId": "415d5a79-efb0-4ce3-88df-0a6a78c235f0",
        "colab": {
          "base_uri": "https://localhost:8080/",
          "height": 68
        }
      },
      "source": [
        "def my_decorator(func):\n",
        "    def wrapper(*args, **kwargs):\n",
        "        print(\"Something is happening before the function is called.\")\n",
        "        func(*args, **kwargs)\n",
        "        print(\"Something is happening after the function is called.\")\n",
        "    return wrapper\n",
        "\n",
        "@my_decorator\n",
        "def greeting(name):\n",
        "    \"\"\"Just a docstring\"\"\"\n",
        "    print(\"Hi\", name)\n",
        "\n",
        "greeting('Minh')"
      ],
      "execution_count": 0,
      "outputs": [
        {
          "output_type": "stream",
          "text": [
            "Something is happening before the function is called.\n",
            "Hi Minh\n",
            "Something is happening after the function is called.\n"
          ],
          "name": "stdout"
        }
      ]
    },
    {
      "cell_type": "markdown",
      "metadata": {
        "id": "_SXH28wbo_FC",
        "colab_type": "text"
      },
      "source": [
        "So, @my_decorator is just an easier way of saying \n",
        "\n",
        "`say_whee = my_decorator(say_whee)`\n",
        "\n",
        "It’s how you apply a decorator to a function."
      ]
    },
    {
      "cell_type": "markdown",
      "metadata": {
        "id": "LvjLnzkyrihC",
        "colab_type": "text"
      },
      "source": [
        "However, after being decorated, `greeting()` has gotten very confused about its identity. It now reports being the `wrapper()` inner function"
      ]
    },
    {
      "cell_type": "code",
      "metadata": {
        "id": "yfsjS9ndpZ91",
        "colab_type": "code",
        "outputId": "ea8e992c-c303-4568-a3bc-73a089acfad5",
        "colab": {
          "base_uri": "https://localhost:8080/",
          "height": 86
        }
      },
      "source": [
        "help(greeting)"
      ],
      "execution_count": 0,
      "outputs": [
        {
          "output_type": "stream",
          "text": [
            "Help on function wrapper in module __main__:\n",
            "\n",
            "wrapper(*args, **kwargs)\n",
            "\n"
          ],
          "name": "stdout"
        }
      ]
    },
    {
      "cell_type": "markdown",
      "metadata": {
        "id": "FbK3UgGTrocr",
        "colab_type": "text"
      },
      "source": [
        "To fix this, decorators should use the @functools.wraps decorator, which will preserve information about the original function. Update decorators.py again:"
      ]
    },
    {
      "cell_type": "code",
      "metadata": {
        "id": "ztNA6Es0rq4B",
        "colab_type": "code",
        "outputId": "8baee8b4-af62-4618-dab8-fa444f17348e",
        "colab": {
          "base_uri": "https://localhost:8080/",
          "height": 171
        }
      },
      "source": [
        "import functools\n",
        "\n",
        "def my_decorator(func):\n",
        "    @functools.wraps(func)\n",
        "    def wrapper(*args, **kwargs):\n",
        "        print(\"Something is happening before the function is called.\")\n",
        "        func(*args, **kwargs)\n",
        "        print(\"Something is happening after the function is called.\")\n",
        "    return wrapper\n",
        "\n",
        "@my_decorator\n",
        "def greeting(name):\n",
        "    \"\"\"The docstring of greeting\"\"\"\n",
        "    print(\"Hi\", name)\n",
        "\n",
        "greeting('Minh')\n",
        "print('-----------------')\n",
        "help(greeting)"
      ],
      "execution_count": 0,
      "outputs": [
        {
          "output_type": "stream",
          "text": [
            "Something is happening before the function is called.\n",
            "Hi Minh\n",
            "Something is happening after the function is called.\n",
            "-----------------\n",
            "Help on function greeting in module __main__:\n",
            "\n",
            "greeting(name)\n",
            "    The docstring of greeting\n",
            "\n"
          ],
          "name": "stdout"
        }
      ]
    },
    {
      "cell_type": "markdown",
      "metadata": {
        "id": "6iFh9yU0sUdf",
        "colab_type": "text"
      },
      "source": [
        "To summerize, we'll mainly follow the same pattern that you've learned so far:"
      ]
    },
    {
      "cell_type": "code",
      "metadata": {
        "id": "gCIYychAscso",
        "colab_type": "code",
        "colab": {}
      },
      "source": [
        "import functools\n",
        "\n",
        "def decorator(func):\n",
        "    @functools.wraps(func)\n",
        "    def wrapper_decorator(*args, **kwargs):\n",
        "        # Do something before\n",
        "        value = func(*args, **kwargs)\n",
        "        # Do something after\n",
        "        return value\n",
        "    return wrapper_decorator"
      ],
      "execution_count": 0,
      "outputs": []
    },
    {
      "cell_type": "markdown",
      "metadata": {
        "id": "JWnDPHbtsgPm",
        "colab_type": "text"
      },
      "source": [
        "### Practice"
      ]
    },
    {
      "cell_type": "markdown",
      "metadata": {
        "id": "7ayEYN61sjHm",
        "colab_type": "text"
      },
      "source": [
        "**Time Functions**"
      ]
    },
    {
      "cell_type": "code",
      "metadata": {
        "id": "oth8Nd8gsiOf",
        "colab_type": "code",
        "colab": {}
      },
      "source": [
        "import functools\n",
        "import time\n",
        "\n",
        "def timer(func):\n",
        "    \"\"\"Print the runtime of the decorated function\"\"\"\n",
        "    @functools.wraps(func)\n",
        "    def wrapper_timer(*args, **kwargs):\n",
        "        start_time = time.perf_counter()    # 1\n",
        "        value = func(*args, **kwargs)\n",
        "        end_time = time.perf_counter()      # 2\n",
        "        run_time = end_time - start_time    # 3\n",
        "        print(f\"Finished {func.__name__!r} in {run_time:.4f} secs\")\n",
        "        return value\n",
        "    return wrapper_timer\n",
        "\n",
        "@timer\n",
        "def waste_some_time(num_times):\n",
        "    for _ in range(num_times):\n",
        "        sum([i**2 for i in range(10000)])"
      ],
      "execution_count": 0,
      "outputs": []
    },
    {
      "cell_type": "code",
      "metadata": {
        "id": "rXBRKVg4UNQS",
        "colab_type": "code",
        "outputId": "9e4991ff-e075-4ad4-a84c-1ffca563c675",
        "colab": {
          "base_uri": "https://localhost:8080/",
          "height": 34
        }
      },
      "source": [
        "waste_some_time(100)"
      ],
      "execution_count": 0,
      "outputs": [
        {
          "output_type": "stream",
          "text": [
            "Finished 'waste_some_time' in 0.2879 secs\n"
          ],
          "name": "stdout"
        }
      ]
    },
    {
      "cell_type": "markdown",
      "metadata": {
        "id": "XRxMSwhbs7-U",
        "colab_type": "text"
      },
      "source": [
        "**Debugging Code**"
      ]
    },
    {
      "cell_type": "code",
      "metadata": {
        "id": "NJPGaRgHs930",
        "colab_type": "code",
        "colab": {}
      },
      "source": [
        "import functools\n",
        "\n",
        "def debug(func):\n",
        "    \"\"\"Print the function signature and return value\"\"\"\n",
        "    @functools.wraps(func)\n",
        "    def wrapper_debug(*args, **kwargs):\n",
        "        args_repr = [repr(a) for a in args]                      # 1\n",
        "        kwargs_repr = [f\"{k}={v!r}\" for k, v in kwargs.items()]  # 2\n",
        "        signature = \", \".join(args_repr + kwargs_repr)           # 3\n",
        "        print(f\"Calling {func.__name__}({signature})\")\n",
        "        value = func(*args, **kwargs)\n",
        "        print(f\"{func.__name__!r} returned {value!r}\")           # 4\n",
        "        return value\n",
        "    return wrapper_debug"
      ],
      "execution_count": 0,
      "outputs": []
    },
    {
      "cell_type": "code",
      "metadata": {
        "id": "Ur313EWXs-sI",
        "colab_type": "code",
        "outputId": "647d624b-b31b-423d-ca12-578e5f0f9855",
        "colab": {
          "base_uri": "https://localhost:8080/",
          "height": 68
        }
      },
      "source": [
        "@debug\n",
        "def make_greeting(name, age=None):\n",
        "    if age is None:\n",
        "        return f\"Howdy {name}!\"\n",
        "    else:\n",
        "        return f\"Whoa {name}! {age} already, you are growing up!\"\n",
        "\n",
        "make_greeting(\"Benjamin\")"
      ],
      "execution_count": 0,
      "outputs": [
        {
          "output_type": "stream",
          "text": [
            "Calling make_greeting('Benjamin')\n",
            "'make_greeting' returned 'Howdy Benjamin!'\n"
          ],
          "name": "stdout"
        },
        {
          "output_type": "execute_result",
          "data": {
            "text/plain": [
              "'Howdy Benjamin!'"
            ]
          },
          "metadata": {
            "tags": []
          },
          "execution_count": 59
        }
      ]
    },
    {
      "cell_type": "code",
      "metadata": {
        "id": "As_jtvzNtT3Q",
        "colab_type": "code",
        "outputId": "c248a70a-06f1-4aa8-f966-4bd2cd7a76d0",
        "colab": {
          "base_uri": "https://localhost:8080/",
          "height": 1000
        }
      },
      "source": [
        "@debug\n",
        "def check_prime_number(n):\n",
        "    if n < 2:\n",
        "        return False\n",
        "    for i in range(2, (n // 2) + 1):\n",
        "        if n % i == 0:\n",
        "            return False\n",
        "    return True\n",
        "\n",
        "@debug\n",
        "def sum_prime(limit=100):\n",
        "    s = 0\n",
        "    for i in range(limit):\n",
        "        if check_prime_number(i):\n",
        "            s += i\n",
        "    return s\n",
        "\n",
        "sum_prime(100)"
      ],
      "execution_count": 0,
      "outputs": [
        {
          "output_type": "stream",
          "text": [
            "Calling sum_prime(100)\n",
            "Calling check_prime_number(0)\n",
            "'check_prime_number' returned False\n",
            "Calling check_prime_number(1)\n",
            "'check_prime_number' returned False\n",
            "Calling check_prime_number(2)\n",
            "'check_prime_number' returned True\n",
            "Calling check_prime_number(3)\n",
            "'check_prime_number' returned True\n",
            "Calling check_prime_number(4)\n",
            "'check_prime_number' returned False\n",
            "Calling check_prime_number(5)\n",
            "'check_prime_number' returned True\n",
            "Calling check_prime_number(6)\n",
            "'check_prime_number' returned False\n",
            "Calling check_prime_number(7)\n",
            "'check_prime_number' returned True\n",
            "Calling check_prime_number(8)\n",
            "'check_prime_number' returned False\n",
            "Calling check_prime_number(9)\n",
            "'check_prime_number' returned False\n",
            "Calling check_prime_number(10)\n",
            "'check_prime_number' returned False\n",
            "Calling check_prime_number(11)\n",
            "'check_prime_number' returned True\n",
            "Calling check_prime_number(12)\n",
            "'check_prime_number' returned False\n",
            "Calling check_prime_number(13)\n",
            "'check_prime_number' returned True\n",
            "Calling check_prime_number(14)\n",
            "'check_prime_number' returned False\n",
            "Calling check_prime_number(15)\n",
            "'check_prime_number' returned False\n",
            "Calling check_prime_number(16)\n",
            "'check_prime_number' returned False\n",
            "Calling check_prime_number(17)\n",
            "'check_prime_number' returned True\n",
            "Calling check_prime_number(18)\n",
            "'check_prime_number' returned False\n",
            "Calling check_prime_number(19)\n",
            "'check_prime_number' returned True\n",
            "Calling check_prime_number(20)\n",
            "'check_prime_number' returned False\n",
            "Calling check_prime_number(21)\n",
            "'check_prime_number' returned False\n",
            "Calling check_prime_number(22)\n",
            "'check_prime_number' returned False\n",
            "Calling check_prime_number(23)\n",
            "'check_prime_number' returned True\n",
            "Calling check_prime_number(24)\n",
            "'check_prime_number' returned False\n",
            "Calling check_prime_number(25)\n",
            "'check_prime_number' returned False\n",
            "Calling check_prime_number(26)\n",
            "'check_prime_number' returned False\n",
            "Calling check_prime_number(27)\n",
            "'check_prime_number' returned False\n",
            "Calling check_prime_number(28)\n",
            "'check_prime_number' returned False\n",
            "Calling check_prime_number(29)\n",
            "'check_prime_number' returned True\n",
            "Calling check_prime_number(30)\n",
            "'check_prime_number' returned False\n",
            "Calling check_prime_number(31)\n",
            "'check_prime_number' returned True\n",
            "Calling check_prime_number(32)\n",
            "'check_prime_number' returned False\n",
            "Calling check_prime_number(33)\n",
            "'check_prime_number' returned False\n",
            "Calling check_prime_number(34)\n",
            "'check_prime_number' returned False\n",
            "Calling check_prime_number(35)\n",
            "'check_prime_number' returned False\n",
            "Calling check_prime_number(36)\n",
            "'check_prime_number' returned False\n",
            "Calling check_prime_number(37)\n",
            "'check_prime_number' returned True\n",
            "Calling check_prime_number(38)\n",
            "'check_prime_number' returned False\n",
            "Calling check_prime_number(39)\n",
            "'check_prime_number' returned False\n",
            "Calling check_prime_number(40)\n",
            "'check_prime_number' returned False\n",
            "Calling check_prime_number(41)\n",
            "'check_prime_number' returned True\n",
            "Calling check_prime_number(42)\n",
            "'check_prime_number' returned False\n",
            "Calling check_prime_number(43)\n",
            "'check_prime_number' returned True\n",
            "Calling check_prime_number(44)\n",
            "'check_prime_number' returned False\n",
            "Calling check_prime_number(45)\n",
            "'check_prime_number' returned False\n",
            "Calling check_prime_number(46)\n",
            "'check_prime_number' returned False\n",
            "Calling check_prime_number(47)\n",
            "'check_prime_number' returned True\n",
            "Calling check_prime_number(48)\n",
            "'check_prime_number' returned False\n",
            "Calling check_prime_number(49)\n",
            "'check_prime_number' returned False\n",
            "Calling check_prime_number(50)\n",
            "'check_prime_number' returned False\n",
            "Calling check_prime_number(51)\n",
            "'check_prime_number' returned False\n",
            "Calling check_prime_number(52)\n",
            "'check_prime_number' returned False\n",
            "Calling check_prime_number(53)\n",
            "'check_prime_number' returned True\n",
            "Calling check_prime_number(54)\n",
            "'check_prime_number' returned False\n",
            "Calling check_prime_number(55)\n",
            "'check_prime_number' returned False\n",
            "Calling check_prime_number(56)\n",
            "'check_prime_number' returned False\n",
            "Calling check_prime_number(57)\n",
            "'check_prime_number' returned False\n",
            "Calling check_prime_number(58)\n",
            "'check_prime_number' returned False\n",
            "Calling check_prime_number(59)\n",
            "'check_prime_number' returned True\n",
            "Calling check_prime_number(60)\n",
            "'check_prime_number' returned False\n",
            "Calling check_prime_number(61)\n",
            "'check_prime_number' returned True\n",
            "Calling check_prime_number(62)\n",
            "'check_prime_number' returned False\n",
            "Calling check_prime_number(63)\n",
            "'check_prime_number' returned False\n",
            "Calling check_prime_number(64)\n",
            "'check_prime_number' returned False\n",
            "Calling check_prime_number(65)\n",
            "'check_prime_number' returned False\n",
            "Calling check_prime_number(66)\n",
            "'check_prime_number' returned False\n",
            "Calling check_prime_number(67)\n",
            "'check_prime_number' returned True\n",
            "Calling check_prime_number(68)\n",
            "'check_prime_number' returned False\n",
            "Calling check_prime_number(69)\n",
            "'check_prime_number' returned False\n",
            "Calling check_prime_number(70)\n",
            "'check_prime_number' returned False\n",
            "Calling check_prime_number(71)\n",
            "'check_prime_number' returned True\n",
            "Calling check_prime_number(72)\n",
            "'check_prime_number' returned False\n",
            "Calling check_prime_number(73)\n",
            "'check_prime_number' returned True\n",
            "Calling check_prime_number(74)\n",
            "'check_prime_number' returned False\n",
            "Calling check_prime_number(75)\n",
            "'check_prime_number' returned False\n",
            "Calling check_prime_number(76)\n",
            "'check_prime_number' returned False\n",
            "Calling check_prime_number(77)\n",
            "'check_prime_number' returned False\n",
            "Calling check_prime_number(78)\n",
            "'check_prime_number' returned False\n",
            "Calling check_prime_number(79)\n",
            "'check_prime_number' returned True\n",
            "Calling check_prime_number(80)\n",
            "'check_prime_number' returned False\n",
            "Calling check_prime_number(81)\n",
            "'check_prime_number' returned False\n",
            "Calling check_prime_number(82)\n",
            "'check_prime_number' returned False\n",
            "Calling check_prime_number(83)\n",
            "'check_prime_number' returned True\n",
            "Calling check_prime_number(84)\n",
            "'check_prime_number' returned False\n",
            "Calling check_prime_number(85)\n",
            "'check_prime_number' returned False\n",
            "Calling check_prime_number(86)\n",
            "'check_prime_number' returned False\n",
            "Calling check_prime_number(87)\n",
            "'check_prime_number' returned False\n",
            "Calling check_prime_number(88)\n",
            "'check_prime_number' returned False\n",
            "Calling check_prime_number(89)\n",
            "'check_prime_number' returned True\n",
            "Calling check_prime_number(90)\n",
            "'check_prime_number' returned False\n",
            "Calling check_prime_number(91)\n",
            "'check_prime_number' returned False\n",
            "Calling check_prime_number(92)\n",
            "'check_prime_number' returned False\n",
            "Calling check_prime_number(93)\n",
            "'check_prime_number' returned False\n",
            "Calling check_prime_number(94)\n",
            "'check_prime_number' returned False\n",
            "Calling check_prime_number(95)\n",
            "'check_prime_number' returned False\n",
            "Calling check_prime_number(96)\n",
            "'check_prime_number' returned False\n",
            "Calling check_prime_number(97)\n",
            "'check_prime_number' returned True\n",
            "Calling check_prime_number(98)\n",
            "'check_prime_number' returned False\n",
            "Calling check_prime_number(99)\n",
            "'check_prime_number' returned False\n",
            "'sum_prime' returned 1060\n"
          ],
          "name": "stdout"
        },
        {
          "output_type": "execute_result",
          "data": {
            "text/plain": [
              "1060"
            ]
          },
          "metadata": {
            "tags": []
          },
          "execution_count": 62
        }
      ]
    },
    {
      "cell_type": "markdown",
      "metadata": {
        "id": "KBqEMsfAtm08",
        "colab_type": "text"
      },
      "source": [
        "**Is the user logged in?**"
      ]
    },
    {
      "cell_type": "code",
      "metadata": {
        "id": "q7N0t3bstpwM",
        "colab_type": "code",
        "colab": {}
      },
      "source": [
        "from flask import Flask, g, request, redirect, url_for\n",
        "import functools\n",
        "app = Flask(__name__)\n",
        "\n",
        "def login_required(func):\n",
        "    \"\"\"Make sure user is logged in before proceeding\"\"\"\n",
        "    @functools.wraps(func)\n",
        "    def wrapper_login_required(*args, **kwargs):\n",
        "        if g.user is None:\n",
        "            return redirect(url_for(\"login\", next=request.url))\n",
        "        return func(*args, **kwargs)\n",
        "    return wrapper_login_required\n",
        "\n",
        "@app.route(\"/secret\")\n",
        "@login_required\n",
        "def secret():\n",
        "    ..."
      ],
      "execution_count": 0,
      "outputs": []
    },
    {
      "cell_type": "markdown",
      "metadata": {
        "id": "3ozi4LNG6gd4",
        "colab_type": "text"
      },
      "source": [
        "## Regular Expressions\n",
        "\n",
        "In Python, regular expressions are supported by the `re` module.\n",
        "\n",
        "A regular expression (or RE) specifies a set of strings that matches it; the functions in this module let you check if a particular string matches a given regular expression (or if a given regular expression matches a particular string, which comes down to the same thing).\n",
        "\n",
        "Let's walk through some examples:"
      ]
    },
    {
      "cell_type": "code",
      "metadata": {
        "id": "gYm_jLTaqC4s",
        "colab_type": "code",
        "colab": {}
      },
      "source": [
        "import re"
      ],
      "execution_count": 0,
      "outputs": []
    },
    {
      "cell_type": "code",
      "metadata": {
        "id": "6DB7nXJXdVF6",
        "colab_type": "code",
        "colab": {}
      },
      "source": [
        ""
      ],
      "execution_count": 0,
      "outputs": []
    },
    {
      "cell_type": "code",
      "metadata": {
        "id": "R0-r2V6_fLca",
        "colab_type": "code",
        "outputId": "46658374-d4d1-4d8b-d479-6c7ce3b63207",
        "colab": {
          "base_uri": "https://localhost:8080/",
          "height": 34
        }
      },
      "source": [
        "regex = r'a+?\\b'\n",
        "re.findall(regex, 'ab abc abcc baa')"
      ],
      "execution_count": 0,
      "outputs": [
        {
          "output_type": "execute_result",
          "data": {
            "text/plain": [
              "['aa']"
            ]
          },
          "metadata": {
            "tags": []
          },
          "execution_count": 92
        }
      ]
    },
    {
      "cell_type": "code",
      "metadata": {
        "id": "tiFc8P_57ANO",
        "colab_type": "code",
        "outputId": "2043bb63-deef-4d71-b1eb-40ee6c10c5f4",
        "colab": {
          "base_uri": "https://localhost:8080/",
          "height": 34
        }
      },
      "source": [
        "email_regex = '\\s(\\d+@\\w+\\.[a-z]{2,3})'\n",
        "text = \"To email 1@gmail.com Hai Minh, try minhdh@coderschool.vn or the older address haiminh101@yahoo.vn\"\n",
        "re.findall(email_regex, text)"
      ],
      "execution_count": 0,
      "outputs": [
        {
          "output_type": "execute_result",
          "data": {
            "text/plain": [
              "['1@gmail.com']"
            ]
          },
          "metadata": {
            "tags": []
          },
          "execution_count": 69
        }
      ]
    },
    {
      "cell_type": "code",
      "metadata": {
        "id": "G6XgOAvc7ELo",
        "colab_type": "code",
        "outputId": "bd54004a-1c3c-4273-a133-51cb403a7dd5",
        "colab": {
          "base_uri": "https://localhost:8080/",
          "height": 35
        }
      },
      "source": [
        "# Replacing these email addresses with another string, perhaps to hide addresses in the output:\n",
        "re.sub(email_regex, '--@--.--', text)"
      ],
      "execution_count": 0,
      "outputs": [
        {
          "output_type": "execute_result",
          "data": {
            "text/plain": [
              "'To email --@--.--m Hai Minh, try --@--.-- or the older address --@--.--'"
            ]
          },
          "metadata": {
            "tags": []
          },
          "execution_count": 12
        }
      ]
    },
    {
      "cell_type": "code",
      "metadata": {
        "id": "uVsjGsm07Gpg",
        "colab_type": "code",
        "outputId": "80b92395-920b-4ea0-cec4-ae6a3e66149f",
        "colab": {
          "base_uri": "https://localhost:8080/",
          "height": 35
        }
      },
      "source": [
        "# The following will match any lower-case vowel:\n",
        "re.split('[aeiou]', 'consequential')"
      ],
      "execution_count": 0,
      "outputs": [
        {
          "output_type": "execute_result",
          "data": {
            "text/plain": [
              "['c', 'ns', 'q', '', 'nt', '', 'l']"
            ]
          },
          "metadata": {
            "tags": []
          },
          "execution_count": 7
        }
      ]
    },
    {
      "cell_type": "code",
      "metadata": {
        "id": "wABqzKWQC4qy",
        "colab_type": "code",
        "colab": {}
      },
      "source": [
        "re_examples = [                        # All of these are True, because\n",
        "    not re.match(\"a\", \"cat\"),              #  'cat' doesn't start with 'a'\n",
        "    re.search(\"a\", \"cat\"),                 #  'cat' has an 'a' in it\n",
        "    not re.search(\"c\", \"dog\"),             #  'dog' doesn't have a 'c' in it.\n",
        "    3 == len(re.split(\"[ab]\", \"carbs\")),   #  Split on a or b to ['c','r','s'].\n",
        "    \"R-D-\" == re.sub(\"[0-9]\", \"-\", \"R2D2\") #  Replace digits with dashes.\n",
        "    ]\n",
        "\n",
        "assert all(re_examples), \"all the regex examples should be True\""
      ],
      "execution_count": 0,
      "outputs": []
    },
    {
      "cell_type": "markdown",
      "metadata": {
        "id": "P-4XL_Kv7J6a",
        "colab_type": "text"
      },
      "source": [
        "The following table lists a few of these characters that are commonly useful:\n",
        "\n",
        "|Character classes||Quantifiers & Alternation||\n",
        "|--- |--- |--- |--- |\n",
        "|.|any character except newline|a* a+ a?|0 or more, 1 or more, 0 or 1|\n",
        "|\\w \\d \\s|word, digit, whitespace|a{5} a{2,}|exactly five, two or more|\n",
        "|\\W \\D \\S|not word, digit, whitespace|a{1,3}|between one & three|\n",
        "|[abc]|any of a, b, or c|a+? a{2,}?|match as few as possible|\n",
        "|[^abc]|not a, b, or c|ab|cd|match ab or cd|\n",
        "|[a-g]|character between a & g|||\n",
        "|**Anchors**||**Escaped characters**||\n",
        "|^abc$|start / end of the string|\\. \\* \\\\|\\ is used to escape special chars. \\* matches *|\n",
        "|\\b|word boundary|\\t \\n \\r|tab, linefeed, carriage return|\n",
        "\n",
        "\n",
        "| Character | Description | Example |\n",
        "|------------|-----------|------------|\n",
        "| ? | Match zero or one repetitions of preceding |  \"ab?\" matches \"a\" or \"ab\" |\n",
        "| * | Match zero or more repetitions of preceding | \"ab*\" matches \"a\", \"ab\", \"abb\", \"abbb\"... |\n",
        "| + | Match one or more repetitions of preceding |  \"ab+\" matches \"ab\", \"abb\", \"abbb\"... but not \"a\" |\n",
        "| {n} | Match n repetitions of preceding | \"ab{2}\" matches \"abb\" |\n",
        "| {m,n} | Match between m and n repetitions of preceding |  \"ab{2,3}\" matches \"abb\" or \"abbb\" |\n",
        "\n",
        "\n"
      ]
    },
    {
      "cell_type": "markdown",
      "metadata": {
        "id": "Hnq_7FzK7YY2",
        "colab_type": "text"
      },
      "source": [
        "### Practice\n",
        "\n",
        "https://regexone.com/"
      ]
    }
  ]
}