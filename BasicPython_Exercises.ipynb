{
  "nbformat": 4,
  "nbformat_minor": 0,
  "metadata": {
    "colab": {
      "name": "BasicPython-Exercises-Solutions.ipynb",
      "provenance": [],
      "collapsed_sections": [
        "XPcD9ohz3Htc"
      ],
      "include_colab_link": true
    },
    "kernelspec": {
      "name": "python3",
      "display_name": "Python 3"
    }
  },
  "cells": [
    {
      "cell_type": "markdown",
      "metadata": {
        "id": "view-in-github",
        "colab_type": "text"
      },
      "source": [
        "<a href=\"https://colab.research.google.com/github/Trantracy/Python-practice/blob/master/BasicPython_Exercises.ipynb\" target=\"_parent\"><img src=\"https://colab.research.google.com/assets/colab-badge.svg\" alt=\"Open In Colab\"/></a>"
      ]
    },
    {
      "cell_type": "markdown",
      "metadata": {
        "id": "FlSa6UEN1t_I",
        "colab_type": "text"
      },
      "source": [
        "![](https://i.imgur.com/0AUxkXt.png)"
      ]
    },
    {
      "cell_type": "markdown",
      "metadata": {
        "id": "owBAudD_11Co",
        "colab_type": "text"
      },
      "source": [
        "# Exercise 01 - Syntax, Variables and Numbers\n",
        "\n",
        "Welcome to your first set of Python coding problems! \n",
        "\n",
        "**Notebooks** are composed of blocks (called \"cells\") of text and code. Each of these is editable, though you'll mainly be editing the code cells to answer some questions.\n",
        "\n",
        "To get started, try running the code cell below (by pressing the `►| Run` button, or clicking on the cell and pressing `ctrl+Enter`/`shift+Enter` on your keyboard)."
      ]
    },
    {
      "cell_type": "code",
      "metadata": {
        "id": "jUaCOICZ1z68",
        "colab_type": "code",
        "colab": {}
      },
      "source": [
        "print(\"You've successfully run some Python code\")\n",
        "print(\"Congratulations!\")"
      ],
      "execution_count": 0,
      "outputs": []
    },
    {
      "cell_type": "markdown",
      "metadata": {
        "id": "oU9e08L12FaG",
        "colab_type": "text"
      },
      "source": [
        "## 0. Creating a Variable\n",
        "\n",
        "**What is your favorite color?**\n",
        "\n",
        "To complete this question, create a variable called `color` in the cell below with an appropriate `string` value."
      ]
    },
    {
      "cell_type": "code",
      "metadata": {
        "id": "nkMZArR_2C4y",
        "colab_type": "code",
        "colab": {}
      },
      "source": [
        "# Create a variable called color with an appropriate value on the line below\n",
        "# (Remember, strings in Python must be enclosed in 'single' or \"double\" quotes)\n",
        "\n",
        "color = \"blue\""
      ],
      "execution_count": 0,
      "outputs": []
    },
    {
      "cell_type": "markdown",
      "metadata": {
        "id": "9geBmcJZ2LIz",
        "colab_type": "text"
      },
      "source": [
        "## 1. Simple Arithmetic Operation\n",
        "\n",
        "Complete the code below. In case it's helpful, here is the table of available arithmetic operations:\n",
        "\n",
        "\n",
        "\n",
        "| Operator     | Name           | Description                                            |\n",
        "|--------------|----------------|--------------------------------------------------------|\n",
        "| ``a + b``    | Addition       | Sum of ``a`` and ``b``                                 |\n",
        "| ``a - b``    | Subtraction    | Difference of ``a`` and ``b``                          |\n",
        "| ``a * b``    | Multiplication | Product of ``a`` and ``b``                             |\n",
        "| ``a / b``    | True division  | Quotient of ``a`` and ``b``                            |\n",
        "| ``a // b``   | Floor division | Quotient of ``a`` and ``b``, removing fractional parts |\n",
        "| ``a % b``    | Modulus        | Integer remainder after division of ``a`` by ``b``     |\n",
        "| ``a ** b``   | Exponentiation | ``a`` raised to the power of ``b``                     |\n",
        "| ``-a``       | Negation       | The negative of ``a``                                  |\n",
        "\n",
        "<span style=\"display:none\"></span>\n"
      ]
    },
    {
      "cell_type": "code",
      "metadata": {
        "id": "DYcQ26eS2KYP",
        "colab_type": "code",
        "outputId": "1964275c-d0f8-4fca-f14a-978273ff7132",
        "colab": {
          "base_uri": "https://localhost:8080/",
          "height": 51
        }
      },
      "source": [
        "pi = 3.14159 # approximate\n",
        "diameter = 3\n",
        "\n",
        "# Create a variable called 'radius' equal to half the diameter\n",
        "radius = diameter / 2\n",
        "# Create a variable called 'area', using the formula for the area of a circle: pi times the radius squared\n",
        "area = pi * (radius ** 2)\n",
        "\n",
        "print(radius)\n",
        "print(area)"
      ],
      "execution_count": 0,
      "outputs": [
        {
          "output_type": "stream",
          "text": [
            "1.5\n",
            "7.0685775\n"
          ],
          "name": "stdout"
        }
      ]
    },
    {
      "cell_type": "markdown",
      "metadata": {
        "id": "LPuQ01S_2SLR",
        "colab_type": "text"
      },
      "source": [
        "**Results**:\n",
        "- Area = 7.0685775"
      ]
    },
    {
      "cell_type": "markdown",
      "metadata": {
        "id": "6Io0pK3B2Wgb",
        "colab_type": "text"
      },
      "source": [
        "## 2. Variable Reassignment\n",
        "\n",
        "Add code to the following cell to swap variables `a` and `b` (so that `a` refers to the object previously referred to by `b` and vice versa)."
      ]
    },
    {
      "cell_type": "code",
      "metadata": {
        "id": "HbEJQ6aw2TXH",
        "colab_type": "code",
        "outputId": "aaaa5def-ca53-4a4c-9937-d18f62aca1c4",
        "colab": {
          "base_uri": "https://localhost:8080/",
          "height": 34
        }
      },
      "source": [
        "# If you're curious, these are examples of lists. We'll talk about \n",
        "# them in depth a few lessons from now. For now, just know that they're\n",
        "# yet another type of Python object, like int or float.\n",
        "a = [1, 2, 3]\n",
        "b = [3, 2, 1]\n",
        "\n",
        "######################################################################\n",
        "\n",
        "# Your code goes here. Swap the values to which a and b refer.\n",
        "# Hint: Try using a third variable\n",
        "a, b = b, a\n",
        "\n",
        "print(a, b)"
      ],
      "execution_count": 0,
      "outputs": [
        {
          "output_type": "stream",
          "text": [
            "[3, 2, 1] [1, 2, 3]\n"
          ],
          "name": "stdout"
        }
      ]
    },
    {
      "cell_type": "markdown",
      "metadata": {
        "id": "f32juswO2axL",
        "colab_type": "text"
      },
      "source": [
        "## 3. Order of Operations\n",
        "\n",
        "\n",
        "a) Add parentheses to the following expression so that it evaluates to 1.\n",
        "\n",
        "*Hint*: Following its default \"PEDMAS\"-like rules for order of operations, Python will first divide 3 by 2, then subtract the result from 5. You need to add parentheses to force it to perform the subtraction first."
      ]
    },
    {
      "cell_type": "code",
      "metadata": {
        "id": "Qdqdn4Ci2YHN",
        "colab_type": "code",
        "outputId": "5b63e541-8234-4cee-c3b9-1f5e28a80a49",
        "colab": {
          "base_uri": "https://localhost:8080/",
          "height": 34
        }
      },
      "source": [
        "(5 - 3) // 2"
      ],
      "execution_count": 0,
      "outputs": [
        {
          "output_type": "execute_result",
          "data": {
            "text/plain": [
              "1"
            ]
          },
          "metadata": {
            "tags": []
          },
          "execution_count": 6
        }
      ]
    },
    {
      "cell_type": "markdown",
      "metadata": {
        "id": "FbTsdECd2Z5N",
        "colab_type": "text"
      },
      "source": [
        "Questions, like this one, marked a spicy pepper are a bit harder. Don't feel bad if you can't get these.\n",
        "\n",
        "b) <span title=\"A bit spicy\" style=\"color: darkgreen \">🌶️</span> Add parentheses to the following expression so that it evaluates to 0"
      ]
    },
    {
      "cell_type": "code",
      "metadata": {
        "id": "vhJ-D7hyALyI",
        "colab_type": "code",
        "outputId": "c861ecc7-77df-4db0-d2de-09a8862df6d4",
        "colab": {
          "base_uri": "https://localhost:8080/",
          "height": 34
        }
      },
      "source": [
        "8 - 3 * 2 - (1 + 1)"
      ],
      "execution_count": 0,
      "outputs": [
        {
          "output_type": "execute_result",
          "data": {
            "text/plain": [
              "0"
            ]
          },
          "metadata": {
            "tags": []
          },
          "execution_count": 5
        }
      ]
    },
    {
      "cell_type": "markdown",
      "metadata": {
        "id": "ENO56YGf2ljJ",
        "colab_type": "text"
      },
      "source": [
        "## 4. Your Turn\n",
        "Alice, Bob and Carol have agreed to pool their Halloween candies and split it evenly among themselves.\n",
        "For the sake of their friendship, any candies left over will be smashed. For example, if they collectively\n",
        "bring home 91 candies, they'll take 30 each and smash 1.\n",
        "\n",
        "Write an arithmetic expression below to calculate how many candies they must smash for a given haul.\n",
        "\n",
        "> *Hint*: You'll probably want to use the modulo operator, `%`, to obtain the remainder of division."
      ]
    },
    {
      "cell_type": "code",
      "metadata": {
        "id": "7lZGyuEj2eM6",
        "colab_type": "code",
        "outputId": "e9beb31b-9d2a-4f50-86c2-d8a8701b983a",
        "colab": {
          "base_uri": "https://localhost:8080/",
          "height": 34
        }
      },
      "source": [
        "# Variables representing the number of candies collected by Alice, Bob, and Carol\n",
        "alice_candies = 121\n",
        "bob_candies = 77\n",
        "carol_candies = 109\n",
        "\n",
        "# Your code goes here! Replace the right-hand side of this assignment with an expression\n",
        "# involving alice_candies, bob_candies, and carol_candies\n",
        "to_smash = (alice_candies + bob_candies + carol_candies) % 3\n",
        "to_smash"
      ],
      "execution_count": 0,
      "outputs": [
        {
          "output_type": "execute_result",
          "data": {
            "text/plain": [
              "1"
            ]
          },
          "metadata": {
            "tags": []
          },
          "execution_count": 9
        }
      ]
    },
    {
      "cell_type": "markdown",
      "metadata": {
        "id": "v66BbF3C3AWB",
        "colab_type": "text"
      },
      "source": [
        "# Exercise 02 - Functions and Getting Help"
      ]
    },
    {
      "cell_type": "markdown",
      "metadata": {
        "id": "XPcD9ohz3Htc",
        "colab_type": "text"
      },
      "source": [
        "## 1. Complete Your Very First Function \n",
        "\n",
        "Complete the body of the following function according to its docstring.\n",
        "\n",
        "*HINT*: Python has a builtin function `round`"
      ]
    },
    {
      "cell_type": "code",
      "metadata": {
        "id": "OqgssCI32ngs",
        "colab_type": "code",
        "colab": {}
      },
      "source": [
        "def round_to_two_places(num):\n",
        "    \"\"\"Return the given number rounded to two decimal places. \n",
        "    \n",
        "    >>> round_to_two_places(3.14159)\n",
        "    3.14\n",
        "    \"\"\"\n",
        "    # Replace this body with your own code.\n",
        "    # (\"pass\" is a keyword that does literally nothing. We used it as a placeholder,\n",
        "    # so that it will not raise any errors,\n",
        "    # because after we begin a code block, Python requires at least one line of code)\n",
        "    return round(num, 2)"
      ],
      "execution_count": 0,
      "outputs": []
    },
    {
      "cell_type": "code",
      "metadata": {
        "id": "whipiS1mEPWt",
        "colab_type": "code",
        "outputId": "768a52a4-0149-4f17-df91-ee7b67a787a4",
        "colab": {
          "base_uri": "https://localhost:8080/",
          "height": 35
        }
      },
      "source": [
        "round_to_two_places(3.456)"
      ],
      "execution_count": 0,
      "outputs": [
        {
          "output_type": "execute_result",
          "data": {
            "text/plain": [
              "3.46"
            ]
          },
          "metadata": {
            "tags": []
          },
          "execution_count": 3
        }
      ]
    },
    {
      "cell_type": "markdown",
      "metadata": {
        "id": "DvWUqyPH3MVa",
        "colab_type": "text"
      },
      "source": [
        "## 2. Explore the Built-in Function\n",
        "The help for `round` says that `ndigits` (the second argument) may be negative.\n",
        "What do you think will happen when it is? Try some examples in the following cell?\n",
        "\n",
        "Can you think of a case where this would be useful?"
      ]
    },
    {
      "cell_type": "code",
      "metadata": {
        "id": "xPwnMNlY3Jzi",
        "colab_type": "code",
        "outputId": "e2699e21-917d-4dc9-e07b-7147697e14d9",
        "colab": {
          "base_uri": "https://localhost:8080/",
          "height": 34
        }
      },
      "source": [
        "# Put your test code here\n",
        "round(170.123, -2)"
      ],
      "execution_count": 0,
      "outputs": [
        {
          "output_type": "execute_result",
          "data": {
            "text/plain": [
              "200.0"
            ]
          },
          "metadata": {
            "tags": []
          },
          "execution_count": 14
        }
      ]
    },
    {
      "cell_type": "markdown",
      "metadata": {
        "id": "R2X1iMDc3Ojr",
        "colab_type": "text"
      },
      "source": [
        "## 3. More Function\n",
        "\n",
        "Giving the problem of candy-sharing friends Alice, Bob and Carol tried to split candies evenly. For the sake of their friendship, any candies left over would be smashed. For example, if they collectively bring home 91 candies, they'll take 30 each and smash 1.\n",
        "\n",
        "Below is a simple function that will calculate the number of candies to smash for *any* number of total candies.\n",
        "\n",
        "**Your task**: \n",
        "- Modify it so that it optionally takes a second argument representing the number of friends the candies are being split between. If no second argument is provided, it should assume 3 friends, as before.\n",
        "- Update the docstring to reflect this new behaviour."
      ]
    },
    {
      "cell_type": "code",
      "metadata": {
        "id": "KK4kuvM43P2G",
        "colab_type": "code",
        "colab": {}
      },
      "source": [
        "def to_smash(total_candies, nfriends=3):\n",
        "    \"\"\"Return the number of leftover candies that must be smashed after distributing\n",
        "    the given number of candies evenly between 3 friends.\n",
        "    \n",
        "    >>> to_smash(91)\n",
        "    1\n",
        "    \"\"\"\n",
        "    return total_candies % nfriends"
      ],
      "execution_count": 0,
      "outputs": []
    },
    {
      "cell_type": "markdown",
      "metadata": {
        "id": "2hCTaVE33U0f",
        "colab_type": "text"
      },
      "source": [
        "## 4. Taste some Errors\n",
        "\n",
        "It may not be fun, but reading and understanding **error messages** will help you improve solving problem skills.\n",
        "\n",
        "Each code cell below contains some commented-out buggy code. For each cell...\n",
        "\n",
        "1. Read the code and predict what you think will happen when it's run.\n",
        "2. Then uncomment the code and run it to see what happens. *(**Tip**: In the kernel editor, you can highlight several lines and press `ctrl`+`/` to toggle commenting.)*\n",
        "3. Fix the code (so that it accomplishes its intended purpose without throwing an exception)\n",
        "\n",
        "<!-- TODO: should this be autochecked? Delta is probably pretty small. -->"
      ]
    },
    {
      "cell_type": "code",
      "metadata": {
        "id": "moke8TZn3RxC",
        "colab_type": "code",
        "outputId": "a690af57-3986-4d36-b4ba-ba238552db14",
        "colab": {
          "base_uri": "https://localhost:8080/",
          "height": 35
        }
      },
      "source": [
        "round_to_two_places(9.9999)"
      ],
      "execution_count": 0,
      "outputs": [
        {
          "output_type": "execute_result",
          "data": {
            "text/plain": [
              "10.0"
            ]
          },
          "metadata": {
            "tags": []
          },
          "execution_count": 4
        }
      ]
    },
    {
      "cell_type": "code",
      "metadata": {
        "id": "LHpe-mTT3cl6",
        "colab_type": "code",
        "colab": {}
      },
      "source": [
        "x = -10\n",
        "y = 5\n",
        "# Which of the two variables above has the smallest absolute value?\n",
        "smallest_abs = min(abs(x), abs(y))"
      ],
      "execution_count": 0,
      "outputs": []
    },
    {
      "cell_type": "code",
      "metadata": {
        "id": "ITbUnQWY3ep_",
        "colab_type": "code",
        "outputId": "ad2c3511-1efd-4711-f32f-7c18d6d2be00",
        "colab": {
          "base_uri": "https://localhost:8080/",
          "height": 35
        }
      },
      "source": [
        "def f(x):\n",
        "    y = abs(x)\n",
        "    return y\n",
        "\n",
        "print(f(5))"
      ],
      "execution_count": 0,
      "outputs": [
        {
          "output_type": "stream",
          "text": [
            "5\n"
          ],
          "name": "stdout"
        }
      ]
    },
    {
      "cell_type": "markdown",
      "metadata": {
        "id": "OJtFb1ay3hJh",
        "colab_type": "text"
      },
      "source": [
        "## 5. More and more Functions\n",
        "\n",
        "For this question, we'll be using two functions imported from Python's `time` module.\n"
      ]
    },
    {
      "cell_type": "markdown",
      "metadata": {
        "id": "daLSirjX3j4s",
        "colab_type": "text"
      },
      "source": [
        "### Time Function\n",
        "The [time](https://docs.python.org/3/library/time.html#time.time) function returns the number of seconds that have passed since the Epoch (aka [Unix time](https://en.wikipedia.org/wiki/Unix_time)). \n",
        "\n",
        "<!-- We've provided a function called `seconds_since_epoch` which returns the number of seconds that have passed since the Epoch (aka [Unix time](https://en.wikipedia.org/wiki/Unix_time)). -->\n",
        "\n",
        "Try it out below. Each time you run it, you should get a slightly larger number."
      ]
    },
    {
      "cell_type": "code",
      "metadata": {
        "id": "mlDbU8qD3f3L",
        "colab_type": "code",
        "outputId": "6c36731f-595c-413d-a69a-38b7de4ca572",
        "colab": {
          "base_uri": "https://localhost:8080/",
          "height": 34
        }
      },
      "source": [
        "# Importing the function 'time' from the module of the same name. \n",
        "# (We'll discuss imports in more depth later)\n",
        "from time import time\n",
        "t = time()\n",
        "print(t, \"seconds since the Epoch\")"
      ],
      "execution_count": 0,
      "outputs": [
        {
          "output_type": "stream",
          "text": [
            "1573637082.7703424 seconds since the Epoch\n"
          ],
          "name": "stdout"
        }
      ]
    },
    {
      "cell_type": "markdown",
      "metadata": {
        "id": "QKMPqrhr3qtb",
        "colab_type": "text"
      },
      "source": [
        "### Sleep Function\n",
        "We'll also be using a function called [sleep](https://docs.python.org/3/library/time.html#time.sleep), which makes us wait some number of seconds while it does nothing particular. (Sounds useful, right?)\n",
        "\n",
        "You can see it in action by running the cell below:"
      ]
    },
    {
      "cell_type": "code",
      "metadata": {
        "id": "5nr6VWw-3nQs",
        "colab_type": "code",
        "outputId": "8900d31b-bb27-4669-9845-15958b26ae46",
        "colab": {
          "base_uri": "https://localhost:8080/",
          "height": 51
        }
      },
      "source": [
        "from time import sleep\n",
        "duration = 5\n",
        "print(\"Getting sleepy. See you in\", duration, \"seconds\")\n",
        "sleep(duration)\n",
        "print(\"I'm back. What did I miss?\")"
      ],
      "execution_count": 0,
      "outputs": [
        {
          "output_type": "stream",
          "text": [
            "Getting sleepy. See you in 5 seconds\n",
            "I'm back. What did I miss?\n"
          ],
          "name": "stdout"
        }
      ]
    },
    {
      "cell_type": "markdown",
      "metadata": {
        "id": "9f_1UyAM3xmr",
        "colab_type": "text"
      },
      "source": [
        "### Your Own Function\n",
        "With the help of these functions, complete the function **`time_call`** below according to its docstring.\n",
        "\n",
        "<!-- (The sleep function will be useful for testing here since we have a pretty good idea of what something like `time_call(sleep, 1)` should return.) -->"
      ]
    },
    {
      "cell_type": "code",
      "metadata": {
        "id": "UapuzY7B3sPR",
        "colab_type": "code",
        "colab": {}
      },
      "source": [
        "def time_call(fn, arg):\n",
        "    \"\"\"Return the amount of time the given function takes (in seconds) when called with the given argument.\n",
        "    \"\"\"\n",
        "    tic = time()\n",
        "    fn(arg)\n",
        "    toc = time()\n",
        "    return toc-tic"
      ],
      "execution_count": 0,
      "outputs": []
    },
    {
      "cell_type": "markdown",
      "metadata": {
        "id": "VROe7-e-31U3",
        "colab_type": "text"
      },
      "source": [
        "How would you verify that `time_call` is working correctly? Think about it..."
      ]
    },
    {
      "cell_type": "markdown",
      "metadata": {
        "id": "E6uUHv3E352V",
        "colab_type": "text"
      },
      "source": [
        "## 6. 🌶️\n",
        "\n",
        "*Note: this question depends on a working solution to the previous question.*\n",
        "\n",
        "Complete the function below according to its docstring."
      ]
    },
    {
      "cell_type": "code",
      "metadata": {
        "id": "uCyXq5gO3wKM",
        "colab_type": "code",
        "colab": {}
      },
      "source": [
        "def slowest_call(fn, arg1, arg2, arg3):\n",
        "    \"\"\"Return the amount of time taken by the slowest of the following function\n",
        "    calls: fn(arg1), fn(arg2), fn(arg3)\n",
        "    \n",
        "    \"\"\"\n",
        "    return max(time_call(fn,arg1), time_call(fn,arg2), time_call(fn,arg3))"
      ],
      "execution_count": 0,
      "outputs": []
    },
    {
      "cell_type": "markdown",
      "metadata": {
        "id": "odFkwl2n4HaT",
        "colab_type": "text"
      },
      "source": [
        "# Exercise 03 - Booleans and Conditionals"
      ]
    },
    {
      "cell_type": "markdown",
      "metadata": {
        "id": "MNIdA6GF4KVx",
        "colab_type": "text"
      },
      "source": [
        "## 1. Simple Function with Conditionals\n",
        "\n",
        "Many programming languages have [sign](https://en.wikipedia.org/wiki/Sign_function) available as a built-in function. Python does not, but we can define our own!\n",
        "\n",
        "In the cell below, define a function called `sign` which takes a numerical argument and returns -1 if it's negative, 1 if it's positive, and 0 if it's 0."
      ]
    },
    {
      "cell_type": "code",
      "metadata": {
        "id": "YP_K4PdN39z2",
        "colab_type": "code",
        "colab": {}
      },
      "source": [
        "# Your code goes here. Define a function called 'sign'\n",
        "def sign(n):\n",
        "    if n==0:\n",
        "        return 0\n",
        "    return -1 if n<0 else 1"
      ],
      "execution_count": 0,
      "outputs": []
    },
    {
      "cell_type": "code",
      "metadata": {
        "id": "VoPpNyBgF7ev",
        "colab_type": "code",
        "outputId": "15f9e089-546a-4a4a-e35e-833d4d06e72d",
        "colab": {
          "base_uri": "https://localhost:8080/",
          "height": 34
        }
      },
      "source": [
        "sign(-10)"
      ],
      "execution_count": 0,
      "outputs": [
        {
          "output_type": "execute_result",
          "data": {
            "text/plain": [
              "-1"
            ]
          },
          "metadata": {
            "tags": []
          },
          "execution_count": 26
        }
      ]
    },
    {
      "cell_type": "markdown",
      "metadata": {
        "id": "fYLiWgV94OW1",
        "colab_type": "text"
      },
      "source": [
        "## 2. Singular vs Plural Nouns\n",
        "\n",
        "We've decided to add \"print\" to our `to_smash` function from Exercise 02"
      ]
    },
    {
      "cell_type": "code",
      "metadata": {
        "id": "yE3m8Pof4MHD",
        "colab_type": "code",
        "outputId": "6744bf1a-3784-43a8-d623-33f7459d466d",
        "colab": {
          "base_uri": "https://localhost:8080/",
          "height": 51
        }
      },
      "source": [
        "def to_smash(total_candies):\n",
        "    \"\"\"Return the number of leftover candies that must be smashed after distributing\n",
        "    the given number of candies evenly between 3 friends.\n",
        "    \n",
        "    >>> to_smash(91)\n",
        "    1\n",
        "    \"\"\"\n",
        "    print(\"Splitting\", total_candies, \"candies\")\n",
        "    return total_candies % 3\n",
        "\n",
        "to_smash(91)"
      ],
      "execution_count": 0,
      "outputs": [
        {
          "output_type": "stream",
          "text": [
            "Splitting 91 candies\n"
          ],
          "name": "stdout"
        },
        {
          "output_type": "execute_result",
          "data": {
            "text/plain": [
              "1"
            ]
          },
          "metadata": {
            "tags": []
          },
          "execution_count": 27
        }
      ]
    },
    {
      "cell_type": "markdown",
      "metadata": {
        "id": "xZ7FVKkQ4QwN",
        "colab_type": "text"
      },
      "source": [
        "What happens if we call it with `total_candies = 1`?"
      ]
    },
    {
      "cell_type": "code",
      "metadata": {
        "id": "tjTwDpM94SM2",
        "colab_type": "code",
        "outputId": "e91253e1-01a5-4709-826a-c73f99eae4ea",
        "colab": {
          "base_uri": "https://localhost:8080/",
          "height": 51
        }
      },
      "source": [
        "to_smash(1)"
      ],
      "execution_count": 0,
      "outputs": [
        {
          "output_type": "stream",
          "text": [
            "Splitting 1 candies\n"
          ],
          "name": "stdout"
        },
        {
          "output_type": "execute_result",
          "data": {
            "text/plain": [
              "1"
            ]
          },
          "metadata": {
            "tags": []
          },
          "execution_count": 28
        }
      ]
    },
    {
      "cell_type": "markdown",
      "metadata": {
        "id": "bV4Al1MN4Vng",
        "colab_type": "text"
      },
      "source": [
        "**Wrong grammar there!**\n",
        "\n",
        "Modify the definition in the cell below to correct the grammar of our print statement.\n",
        "\n",
        "**Your Task:**\n",
        "> If there's only one candy, we should use the singular \"candy\" instead of the plural \"candies\""
      ]
    },
    {
      "cell_type": "code",
      "metadata": {
        "id": "CwOwSZsP4YLv",
        "colab_type": "code",
        "outputId": "9ca9e644-b32c-4430-ab50-c313dd432557",
        "colab": {
          "base_uri": "https://localhost:8080/",
          "height": 68
        }
      },
      "source": [
        "def to_smash(total_candies):\n",
        "    \"\"\"Return the number of leftover candies that must be smashed after distributing\n",
        "    the given number of candies evenly between 3 friends.\n",
        "    \n",
        "    >>> to_smash(91)\n",
        "    1\n",
        "    \"\"\"\n",
        "    print(\"Splitting\", total_candies, \n",
        "          f\"{'candy' if total_candies==1 else 'candies'}\"\n",
        "    )\n",
        "    return total_candies % 3\n",
        "\n",
        "to_smash(91)\n",
        "to_smash(1)"
      ],
      "execution_count": 0,
      "outputs": [
        {
          "output_type": "stream",
          "text": [
            "Splitting 91 candies\n",
            "Splitting 1 candy\n"
          ],
          "name": "stdout"
        },
        {
          "output_type": "execute_result",
          "data": {
            "text/plain": [
              "1"
            ]
          },
          "metadata": {
            "tags": []
          },
          "execution_count": 29
        }
      ]
    },
    {
      "cell_type": "markdown",
      "metadata": {
        "id": "piPyP8fV4bVH",
        "colab_type": "text"
      },
      "source": [
        "## 3. Checking weather again\n",
        "\n",
        "In the main lesson we talked about deciding whether we're prepared for the weather. I said that I'm safe from today's weather if...\n",
        "- I have an umbrella...\n",
        "- or if the rain isn't too heavy and I have a hood...\n",
        "- otherwise, I'm still fine unless it's raining *and* it's a workday\n",
        "\n",
        "The function below uses our first attempt at turning this logic into a Python expression. I claimed that there was a bug in that code. Can you find it?\n",
        "\n",
        "To prove that `prepared_for_weather` is buggy, come up with a set of inputs where it returns the wrong answer."
      ]
    },
    {
      "cell_type": "code",
      "metadata": {
        "id": "v2iMfk2h4cT7",
        "colab_type": "code",
        "outputId": "1beec36e-a2b4-40e6-b422-ac1fc2ae00a9",
        "colab": {
          "base_uri": "https://localhost:8080/",
          "height": 34
        }
      },
      "source": [
        "def prepared_for_weather(have_umbrella, rain_level, have_hood, is_workday):\n",
        "    # Don't change this code. Our goal is just to find the bug, not fix it!\n",
        "    return have_umbrella or rain_level < 5 and have_hood or not (rain_level > 0 and is_workday)\n",
        "\n",
        "# Change the values of these inputs so they represent a case where prepared_for_weather\n",
        "# returns the wrong answer.\n",
        "have_umbrella = False\n",
        "rain_level = 0.0\n",
        "have_hood = False\n",
        "is_workday = False\n",
        "\n",
        "# Check what the function returns given the current values of the variables above\n",
        "actual = prepared_for_weather(have_umbrella, rain_level, have_hood, is_workday)\n",
        "print(actual)"
      ],
      "execution_count": 0,
      "outputs": [
        {
          "output_type": "stream",
          "text": [
            "True\n"
          ],
          "name": "stdout"
        }
      ]
    },
    {
      "cell_type": "markdown",
      "metadata": {
        "id": "ogir1wFi4d-b",
        "colab_type": "text"
      },
      "source": [
        "## 4. Start being lazy...\n",
        "\n",
        "The function `is_negative` below is implemented correctly \n",
        "- It returns True if the given number is negative and False otherwise.\n",
        "\n",
        "However, it's more verbose than it needs to be. We can actually reduce the number of lines of code in this function by *75%* while keeping the same behaviour. \n",
        "\n",
        "**Your task:**\n",
        "> See if you can come up with an equivalent body that uses just **one line** of code, and put it in the function `concise_is_negative`. (HINT: you don't even need Python's ternary syntax)"
      ]
    },
    {
      "cell_type": "code",
      "metadata": {
        "id": "vEw6ClPb4gOv",
        "colab_type": "code",
        "colab": {}
      },
      "source": [
        "def is_negative(number):\n",
        "    if number < 0:\n",
        "        return True\n",
        "    else:\n",
        "        return False\n",
        "\n",
        "def concise_is_negative(number):\n",
        "    return number < 0"
      ],
      "execution_count": 0,
      "outputs": []
    },
    {
      "cell_type": "markdown",
      "metadata": {
        "id": "MSmXcd-H4jG-",
        "colab_type": "text"
      },
      "source": [
        "## 5. Adding Toppings\n",
        "\n",
        "The boolean variables `ketchup`, `mustard` and `onion` represent whether a customer wants a particular topping on their hot dog. We want to implement a number of boolean functions that correspond to some yes-or-no questions about the customer's order. For example:"
      ]
    },
    {
      "cell_type": "code",
      "metadata": {
        "id": "RCMduPaW4jtj",
        "colab_type": "code",
        "colab": {}
      },
      "source": [
        "def onionless(ketchup, mustard, onion):\n",
        "    \"\"\"Return whether the customer doesn't want onions.\n",
        "    \"\"\"\n",
        "    return not onion"
      ],
      "execution_count": 0,
      "outputs": []
    },
    {
      "cell_type": "markdown",
      "metadata": {
        "id": "bJZDyhYV4lW6",
        "colab_type": "text"
      },
      "source": [
        "**Your task:**\n",
        "> For each of the remaining functions, fill in the body to match the English description in the docstring. "
      ]
    },
    {
      "cell_type": "code",
      "metadata": {
        "id": "ueXdd4OZ4nNh",
        "colab_type": "code",
        "colab": {}
      },
      "source": [
        "def wants_all_toppings(ketchup, mustard, onion):\n",
        "    \"\"\"Return whether the customer wants \"the works\" (all 3 toppings)\n",
        "    \"\"\"\n",
        "    return ketchup and mustard and onion\n"
      ],
      "execution_count": 0,
      "outputs": []
    },
    {
      "cell_type": "code",
      "metadata": {
        "id": "0QHgbgEp4nfg",
        "colab_type": "code",
        "colab": {}
      },
      "source": [
        "def wants_plain_hotdog(ketchup, mustard, onion):\n",
        "    \"\"\"Return whether the customer wants a plain hot dog with no toppings.\n",
        "    \"\"\"\n",
        "    return not (ketchup or mustard or onion)"
      ],
      "execution_count": 0,
      "outputs": []
    },
    {
      "cell_type": "code",
      "metadata": {
        "id": "iCzmw46f4tGh",
        "colab_type": "code",
        "colab": {}
      },
      "source": [
        "def exactly_one_sauce(ketchup, mustard, onion):\n",
        "    \"\"\"Return whether the customer wants either ketchup or mustard, but not both.\n",
        "    (You may be familiar with this operation under the name \"exclusive or\")\n",
        "    \"\"\"\n",
        "    return (ketchup + mustard) == 1\n"
      ],
      "execution_count": 0,
      "outputs": []
    },
    {
      "cell_type": "markdown",
      "metadata": {
        "id": "448-31Cn4jFT",
        "colab_type": "text"
      },
      "source": [
        "## 6. <span title=\"A bit spicy\" style=\"color: darkgreen \">🌶️</span>\n",
        "\n",
        "We’ve seen that calling `bool()` on an integer returns `False` if it’s equal to 0 and `True` otherwise. What happens if we call `int()` on a bool? Try it out in the notebook cell below.\n",
        "\n",
        "Can you take advantage of this to write a succinct function that corresponds to the English sentence \"Does the customer want exactly one topping?\"?"
      ]
    },
    {
      "cell_type": "code",
      "metadata": {
        "id": "hkpCTw2j4x3d",
        "colab_type": "code",
        "colab": {}
      },
      "source": [
        "def exactly_one_topping(ketchup, mustard, onion):\n",
        "    \"\"\"Return whether the customer wants exactly one of the three available toppings\n",
        "    on their hot dog.\n",
        "    \"\"\"\n",
        "    return (ketchup + mustard + onion) == 1\n"
      ],
      "execution_count": 0,
      "outputs": []
    },
    {
      "cell_type": "markdown",
      "metadata": {
        "id": "WlqMY3C-4zHG",
        "colab_type": "text"
      },
      "source": [
        "# Exercises 04 - Lists"
      ]
    },
    {
      "cell_type": "markdown",
      "metadata": {
        "id": "I7xVzusC480h",
        "colab_type": "text"
      },
      "source": [
        "## 1. Second Element\n",
        "\n",
        "Complete the function below according to its docstring.\n",
        "\n",
        "*HINT*: Python starts counting at 0."
      ]
    },
    {
      "cell_type": "code",
      "metadata": {
        "id": "J6Ld_aXj4_Dd",
        "colab_type": "code",
        "colab": {}
      },
      "source": [
        "def select_second(L):\n",
        "    \"\"\"Return the second element of the given list. \n",
        "    If the list has no second element, return None.\n",
        "    \"\"\"\n",
        "    return None if len(L)<2 else L[1]"
      ],
      "execution_count": 0,
      "outputs": []
    },
    {
      "cell_type": "markdown",
      "metadata": {
        "id": "5w66ffmC5Awe",
        "colab_type": "text"
      },
      "source": [
        "## 2. Captain of the Worst Team\n",
        "\n",
        "You are analyzing sports teams.  Members of each team are stored in a list. The Coach is the first name in the list, the Captain is the second name in the list, and other players are listed after that. \n",
        "These lists are stored in another list, which starts with the best team and proceeds through the list to the worst team last.  Complete the function below to select the **captain** of the worst team."
      ]
    },
    {
      "cell_type": "code",
      "metadata": {
        "id": "DQmXvpPz5CLz",
        "colab_type": "code",
        "colab": {}
      },
      "source": [
        "def losing_team_captain(teams):\n",
        "    \"\"\"Given a list of teams, where each team is a list of names, return the 2nd player (captain)\n",
        "    from the last listed team\n",
        "    \"\"\"\n",
        "    return teams[-1][1]"
      ],
      "execution_count": 0,
      "outputs": []
    },
    {
      "cell_type": "markdown",
      "metadata": {
        "id": "RCxoWiy_5DvH",
        "colab_type": "text"
      },
      "source": [
        "## 3. Purple Shell item\n",
        "\n",
        "The next iteration of Mario Kart will feature an extra-infuriating new item, the ***Purple Shell***. When used, it warps the last place racer into first place and the first place racer into last place. Complete the function below to implement the Purple Shell's effect."
      ]
    },
    {
      "cell_type": "code",
      "metadata": {
        "id": "gLCF8btM5FWa",
        "colab_type": "code",
        "outputId": "dd6d8004-0f79-48ab-cedb-57b272afcb6e",
        "colab": {
          "base_uri": "https://localhost:8080/",
          "height": 34
        }
      },
      "source": [
        "def purple_shell(racers):\n",
        "    \"\"\"Given a list of racers, set the first place racer (at the front of the list) to last\n",
        "    place and vice versa.\n",
        "    \n",
        "    >>> r = [\"Mario\", \"Bowser\", \"Luigi\"]\n",
        "    >>> purple_shell(r)\n",
        "    >>> r\n",
        "    [\"Luigi\", \"Bowser\", \"Mario\"]\n",
        "    \"\"\"\n",
        "    racers[0], racers[-1] = racers[-1], racers[0]\n",
        "    return racers\n",
        "\n",
        "purple_shell([\"Luigi\", \"Bowser\", \"Mario\"])"
      ],
      "execution_count": 0,
      "outputs": [
        {
          "output_type": "execute_result",
          "data": {
            "text/plain": [
              "['Mario', 'Bowser', 'Luigi']"
            ]
          },
          "metadata": {
            "tags": []
          },
          "execution_count": 34
        }
      ]
    },
    {
      "cell_type": "code",
      "metadata": {
        "id": "MiVySy6VHyXJ",
        "colab_type": "code",
        "outputId": "3d4bd772-8b69-46b7-fec2-651ae1634ca9",
        "colab": {
          "base_uri": "https://localhost:8080/",
          "height": 68
        }
      },
      "source": [
        "a = [1, 2, 3]\n",
        "def add(L):\n",
        "    for i in range(len(L)):\n",
        "        L[i] += 1\n",
        "    print(L)\n",
        "add(a)\n",
        "a\n",
        "\n",
        "b = 1\n",
        "def add2(x):\n",
        "    x += 1\n",
        "    print(x)\n",
        "add2(b)\n",
        "b"
      ],
      "execution_count": 0,
      "outputs": [
        {
          "output_type": "stream",
          "text": [
            "[2, 3, 4]\n",
            "2\n"
          ],
          "name": "stdout"
        },
        {
          "output_type": "execute_result",
          "data": {
            "text/plain": [
              "1"
            ]
          },
          "metadata": {
            "tags": []
          },
          "execution_count": 36
        }
      ]
    },
    {
      "cell_type": "markdown",
      "metadata": {
        "id": "S3-Zin1o5IZx",
        "colab_type": "text"
      },
      "source": [
        "## 4. Guess the Length!\n",
        "\n",
        "What are the lengths of the following lists? Fill in the variable `lengths` with your predictions. (Try to make a prediction for each list *without* just calling `len()` on it.)"
      ]
    },
    {
      "cell_type": "code",
      "metadata": {
        "id": "M_r1bKzd5JP7",
        "colab_type": "code",
        "colab": {}
      },
      "source": [
        "a = [1, 2, 3]\n",
        "b = [1, [2, 3]]\n",
        "c = []\n",
        "d = [1, 2, 3][1:]\n",
        "\n",
        "# Put your predictions in the list below. Lengths should contain 4 numbers, the\n",
        "# first being the length of a, the second being the length of b and so on.\n",
        "lengths = [3, 2, 0, 2]"
      ],
      "execution_count": 0,
      "outputs": []
    },
    {
      "cell_type": "markdown",
      "metadata": {
        "id": "ZslC_Vfp5K-H",
        "colab_type": "text"
      },
      "source": [
        "## 5. <span title=\"A bit spicy\" style=\"color: darkgreen \">🌶️</span>\n",
        "\n",
        "We're using lists to record people who attended our party and what order they arrived in. For example, the following list represents a party with 7 guests, in which Adela showed up first and Ford was the last to arrive:\n",
        "\n",
        "    party_attendees = ['Adela', 'Fleda', 'Owen', 'May', 'Mona', 'Gilbert', 'Ford']\n",
        "\n",
        "A guest is considered 'fashionably late' if they arrived after at least half of the party's guests. However, they must not be the very last guest (that's taking it too far). In the above example, Mona and Gilbert are the only guests who were fashionably late.\n",
        "\n",
        "Complete the function below which takes a list of party attendees as well as a person, and tells us whether that person is fashionably late."
      ]
    },
    {
      "cell_type": "code",
      "metadata": {
        "id": "mNWgjH7B5Mgl",
        "colab_type": "code",
        "colab": {}
      },
      "source": [
        "def fashionably_late(arrivals, name):\n",
        "    \"\"\"Given an ordered list of arrivals to the party and a name, return whether the guest with that\n",
        "    name was fashionably late.\n",
        "    \"\"\"\n",
        "    return (arrivals.index(name) > len(arrivals)//2) and (arrivals.index(name) != len(arrivals)-1)\n"
      ],
      "execution_count": 0,
      "outputs": []
    },
    {
      "cell_type": "markdown",
      "metadata": {
        "id": "X4nD-gsS5OhP",
        "colab_type": "text"
      },
      "source": [
        "# Exercises 05 - Loops and List Comprehensions"
      ]
    },
    {
      "cell_type": "markdown",
      "metadata": {
        "id": "_uL6mMRl5UZf",
        "colab_type": "text"
      },
      "source": [
        "## 1. Lucky number\n",
        "\n",
        "Complete the body of the function below according to its docstring."
      ]
    },
    {
      "cell_type": "code",
      "metadata": {
        "id": "WXDhEWdy5WVR",
        "colab_type": "code",
        "outputId": "82733dbd-278e-43b4-caca-ccdcd174b87d",
        "colab": {
          "base_uri": "https://localhost:8080/",
          "height": 34
        }
      },
      "source": [
        "def has_lucky_number(nums):\n",
        "    \"\"\"Return whether the given list of numbers is lucky. A lucky list contains\n",
        "    at least one number divisible by 7.\n",
        "    \"\"\"\n",
        "    return sum([True if x % 7 == 0 else False for x in nums]) > 0\n",
        "\n",
        "has_lucky_number([71, 141, 2, 3, 4])"
      ],
      "execution_count": 0,
      "outputs": [
        {
          "output_type": "execute_result",
          "data": {
            "text/plain": [
              "False"
            ]
          },
          "metadata": {
            "tags": []
          },
          "execution_count": 39
        }
      ]
    },
    {
      "cell_type": "code",
      "metadata": {
        "id": "984mhwMuJzu2",
        "colab_type": "code",
        "outputId": "42708560-b377-423b-8d8f-569e06ccb742",
        "colab": {
          "base_uri": "https://localhost:8080/",
          "height": 34
        }
      },
      "source": [
        "not all([False, True, True])"
      ],
      "execution_count": 0,
      "outputs": [
        {
          "output_type": "execute_result",
          "data": {
            "text/plain": [
              "True"
            ]
          },
          "metadata": {
            "tags": []
          },
          "execution_count": 43
        }
      ]
    },
    {
      "cell_type": "markdown",
      "metadata": {
        "id": "Zs-NgW4H5X11",
        "colab_type": "text"
      },
      "source": [
        "## 2. Upgrade the List\n",
        "\n"
      ]
    },
    {
      "cell_type": "markdown",
      "metadata": {
        "id": "LCFlHCYi5oxX",
        "colab_type": "text"
      },
      "source": [
        "### a. Guess the Error\n",
        "Look at the Python expression below. What do you think we'll get when we run it? When you've made your prediction, uncomment the code and run the cell to see if you were right."
      ]
    },
    {
      "cell_type": "code",
      "metadata": {
        "id": "d1BPfxIh5Zty",
        "colab_type": "code",
        "colab": {}
      },
      "source": [
        "[1, 2, 3, 4] > 2"
      ],
      "execution_count": 0,
      "outputs": []
    },
    {
      "cell_type": "markdown",
      "metadata": {
        "id": "XhjF5msY5cnu",
        "colab_type": "text"
      },
      "source": [
        "### b. Upgrade the List\n",
        "R and Python have some libraries (like Numpy and Pandas) compare each element of the list to 2 (i.e. do an 'element-wise' comparison) and give us a list of booleans like `[False, False, True, True]`. \n",
        "\n",
        "Implement a function that reproduces this behaviour, returning a list of booleans corresponding to whether the corresponding element is greater than n."
      ]
    },
    {
      "cell_type": "code",
      "metadata": {
        "id": "pI7U3oao5dg3",
        "colab_type": "code",
        "outputId": "92e5e536-7d26-44c7-8c09-7c8fd843b369",
        "colab": {
          "base_uri": "https://localhost:8080/",
          "height": 34
        }
      },
      "source": [
        "def elementwise_greater_than(L, thresh):\n",
        "    \"\"\"Return a list with the same length as L, where the value at index i is \n",
        "    True if L[i] is greater than thresh, and False otherwise.\n",
        "    \n",
        "    >>> elementwise_greater_than([1, 2, 3, 4], 2)\n",
        "    [False, False, True, True]\n",
        "    \"\"\"\n",
        "    return [x > thresh for x in L]\n",
        "\n",
        "elementwise_greater_than([1, 2, 3, 4], 2)"
      ],
      "execution_count": 0,
      "outputs": [
        {
          "output_type": "execute_result",
          "data": {
            "text/plain": [
              "[False, False, True, True]"
            ]
          },
          "metadata": {
            "tags": []
          },
          "execution_count": 44
        }
      ]
    },
    {
      "cell_type": "markdown",
      "metadata": {
        "id": "NPWHCSi15ggJ",
        "colab_type": "text"
      },
      "source": [
        "## 3. Boring Menu\n",
        "\n",
        "Complete the body of the function below according to its docstring.\n",
        "\n",
        "*Hint*: This is a case where it may be preferable to iterate over the indices of the list (using a call to `range()`) rather than iterating over the elements of the list itself. "
      ]
    },
    {
      "cell_type": "code",
      "metadata": {
        "id": "id7CV_x15hSf",
        "colab_type": "code",
        "colab": {}
      },
      "source": [
        "def menu_is_boring(meals):\n",
        "    \"\"\"Given a list of meals served over some period of time, return True if the\n",
        "    same meal has ever been served two days in a row, and False otherwise.\n",
        "    \"\"\"\n",
        "    for i in range(len(meals)-1):\n",
        "        if meals[i] == meals[i+1]:\n",
        "            return True\n",
        "    return False"
      ],
      "execution_count": 0,
      "outputs": []
    },
    {
      "cell_type": "markdown",
      "metadata": {
        "id": "KJGE58yx5iyO",
        "colab_type": "text"
      },
      "source": [
        "# Exercises 06 - Strings and Dictionaries"
      ]
    },
    {
      "cell_type": "markdown",
      "metadata": {
        "id": "VePB9LrA8GJH",
        "colab_type": "text"
      },
      "source": [
        "## 0. Length of Strings\n",
        "\n",
        "Let's start with a string lightning round to warm up. What are the lengths of the strings below?\n",
        "\n",
        "For each of the five strings below, predict what `len()` would return when passed that string. Use the variable `length` to record your answer."
      ]
    },
    {
      "cell_type": "code",
      "metadata": {
        "id": "-UTgkH3L8IW6",
        "colab_type": "code",
        "colab": {}
      },
      "source": [
        "a = \"\"\n",
        "length = 0"
      ],
      "execution_count": 0,
      "outputs": []
    },
    {
      "cell_type": "code",
      "metadata": {
        "id": "xir5KR8o8IQD",
        "colab_type": "code",
        "colab": {}
      },
      "source": [
        "b = \"it's ok\"\n",
        "length = 7"
      ],
      "execution_count": 0,
      "outputs": []
    },
    {
      "cell_type": "code",
      "metadata": {
        "id": "Rricnukg8IMR",
        "colab_type": "code",
        "colab": {}
      },
      "source": [
        "c = 'it\\'s ok'\n",
        "length = 7"
      ],
      "execution_count": 0,
      "outputs": []
    },
    {
      "cell_type": "code",
      "metadata": {
        "id": "M60-Dky48NTv",
        "colab_type": "code",
        "colab": {}
      },
      "source": [
        "d = \"\"\"\n",
        "hey\n",
        "\"\"\"\n",
        "length = 3"
      ],
      "execution_count": 0,
      "outputs": []
    },
    {
      "cell_type": "code",
      "metadata": {
        "id": "vD9Ru-Tf8NdX",
        "colab_type": "code",
        "colab": {}
      },
      "source": [
        "e = '\\n'\n",
        "length = 1"
      ],
      "execution_count": 0,
      "outputs": []
    },
    {
      "cell_type": "markdown",
      "metadata": {
        "id": "61vBe2zr8Ttp",
        "colab_type": "text"
      },
      "source": [
        "## 1. Check the Zip Code\n",
        "\n",
        "There is a saying that *\"Data scientists spend 80% of their time cleaning data, and 20% of their time complaining about cleaning data.\"* Let's see if you can write a function to help clean US zip code data. Given a string, it should return whether or not that string represents a valid zip code. For our purposes, a valid zip code is any string consisting of exactly 5 digits.\n",
        "\n",
        "HINT: `str` has a method that will be useful here. Use `help(str)` to review a list of string methods."
      ]
    },
    {
      "cell_type": "code",
      "metadata": {
        "id": "jrw1ODFL_j3L",
        "colab_type": "code",
        "colab": {}
      },
      "source": [
        ""
      ],
      "execution_count": 0,
      "outputs": []
    },
    {
      "cell_type": "code",
      "metadata": {
        "id": "owWA34nK8Uma",
        "colab_type": "code",
        "outputId": "7865297c-b5e0-4fc2-b463-699a78d6ef2d",
        "colab": {
          "base_uri": "https://localhost:8080/",
          "height": 34
        }
      },
      "source": [
        "def is_valid_zip(zip_code):\n",
        "    \"\"\"Returns whether the input string is a valid (5 digit) zip code\n",
        "    \"\"\"\n",
        "    if len(zip_code) != 5:\n",
        "        return False\n",
        "    for i in zip_code:\n",
        "        if not i.isdigit():\n",
        "            return False\n",
        "    return True\n",
        "\n",
        "is_valid_zip('1234r')"
      ],
      "execution_count": 0,
      "outputs": [
        {
          "output_type": "execute_result",
          "data": {
            "text/plain": [
              "False"
            ]
          },
          "metadata": {
            "tags": []
          },
          "execution_count": 47
        }
      ]
    },
    {
      "cell_type": "markdown",
      "metadata": {
        "id": "ayFYSLsM8Wl0",
        "colab_type": "text"
      },
      "source": [
        "## 2. Searching a Word\n",
        "\n",
        "A researcher has gathered thousands of news articles. But she wants to focus her attention on articles including a specific word. Complete the function below to help her filter her list of articles.\n",
        "\n",
        "Your function should meet the following criteria\n",
        "\n",
        "- Do not include documents where the keyword string shows up only as a part of a larger word. For example, if she were looking for the keyword “closed”, you would not include the string “enclosed.” \n",
        "- She does not want you to distinguish upper case from lower case letters. So the phrase “Closed the case.” would be included when the keyword is “closed”\n",
        "- Do not let periods or commas affect what is matched. “It is closed.” would be included when the keyword is “closed”. But you can assume there are no other types of punctuation.\n",
        "\n",
        "*HINT*: Some methods that may be useful here: `str.split()`, `str.strip()`, `str.lower()`"
      ]
    },
    {
      "cell_type": "code",
      "metadata": {
        "id": "lJPKIb_48ZOb",
        "colab_type": "code",
        "outputId": "7176f6b3-2ca9-4b69-a8e7-701cb0ad075f",
        "colab": {
          "base_uri": "https://localhost:8080/",
          "height": 34
        }
      },
      "source": [
        "def word_search(doc_list, keyword):\n",
        "    \"\"\"\n",
        "    Takes a list of documents (each document is a string) and a keyword. \n",
        "    Returns list of the index values into the original list for all documents \n",
        "    containing the keyword.\n",
        "\n",
        "    Example:\n",
        "    doc_list = [\"The Learn Python Challenge Casino.\", \"They bought a car\", \"Casinoville\"]\n",
        "    >>> word_search(doc_list, 'casino')\n",
        "    >>> [0]\n",
        "    \"\"\"\n",
        "    result = []\n",
        "    for i in range(len(doc_list)):\n",
        "        words = [word.lower().strip(',.') for word in doc_list[i].split()]\n",
        "        if keyword in words:\n",
        "            result.append(i)\n",
        "    return result\n",
        "\n",
        "doc_list = [\"The Learn Python Challenge Casino.\", \"They bought a car\", \"Casinoville\"]\n",
        "word_search(doc_list, 'casino')"
      ],
      "execution_count": 0,
      "outputs": [
        {
          "output_type": "execute_result",
          "data": {
            "text/plain": [
              "[0]"
            ]
          },
          "metadata": {
            "tags": []
          },
          "execution_count": 58
        }
      ]
    },
    {
      "cell_type": "code",
      "metadata": {
        "id": "h3UrEpHRMhfl",
        "colab_type": "code",
        "outputId": "46ad0898-384d-4d81-a039-0ffd47bc35d4",
        "colab": {
          "base_uri": "https://localhost:8080/",
          "height": 34
        }
      },
      "source": [
        "s = 'asdfdf!@#,..,'\n",
        "import re\n",
        "\n",
        "re.sub('\\W+', '', s)"
      ],
      "execution_count": 0,
      "outputs": [
        {
          "output_type": "execute_result",
          "data": {
            "text/plain": [
              "'asdfdf'"
            ]
          },
          "metadata": {
            "tags": []
          },
          "execution_count": 55
        }
      ]
    },
    {
      "cell_type": "markdown",
      "metadata": {
        "id": "X596Kwh68cN2",
        "colab_type": "text"
      },
      "source": [
        "## 3. Searching Multiple Words\n",
        "\n",
        "Now the researcher wants to supply multiple keywords to search for. Complete the function below to help her.\n",
        "\n",
        "(You're encouraged to use the `word_search` function you just wrote when implementing this function. Reusing code in this way makes your programs more robust and readable - and it saves typing!)"
      ]
    },
    {
      "cell_type": "code",
      "metadata": {
        "id": "X8v_wn_28c_l",
        "colab_type": "code",
        "outputId": "5373435b-925c-4eb1-9a05-bf94af00f7df",
        "colab": {
          "base_uri": "https://localhost:8080/",
          "height": 34
        }
      },
      "source": [
        "def multi_word_search(doc_list, keywords):\n",
        "    \"\"\"\n",
        "    Takes list of documents (each document is a string) and a list of keywords.  \n",
        "    Returns a dictionary where each key is a keyword, and the value is a list of indices\n",
        "    (from doc_list) of the documents containing that keyword\n",
        "\n",
        "    >>> doc_list = [\"The Learn Python Challenge Casino.\", \"They bought a car and a casino\", \"Casinoville\"]\n",
        "    >>> keywords = ['casino', 'they']\n",
        "    >>> multi_word_search(doc_list, keywords)\n",
        "    {'casino': [0, 1], 'they': [1]}\n",
        "    \"\"\"\n",
        "    d = {}\n",
        "    for keyword in keywords:\n",
        "        d[keyword] = word_search(doc_list, keyword)\n",
        "    return d\n",
        "\n",
        "doc_list = [\"The Learn Python Challenge Casino.\", \"They bought a car and a casino\", \"Casinoville\"]\n",
        "keywords = ['casino', 'they']\n",
        "multi_word_search(doc_list, keywords)  "
      ],
      "execution_count": 0,
      "outputs": [
        {
          "output_type": "execute_result",
          "data": {
            "text/plain": [
              "{'casino': [0, 1], 'they': [1]}"
            ]
          },
          "metadata": {
            "tags": []
          },
          "execution_count": 59
        }
      ]
    },
    {
      "cell_type": "markdown",
      "metadata": {
        "id": "RI1FkRGG925f",
        "colab_type": "text"
      },
      "source": [
        "# The End\n",
        "\n",
        "You've finished the Python course. Congrats!\n",
        "Happy Pythoning!"
      ]
    }
  ]
}